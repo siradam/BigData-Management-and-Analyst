{
 "cells": [
  {
   "cell_type": "markdown",
   "metadata": {},
   "source": [
    "# Assignment 0 - Python Refresh & Basic Classification\n",
    "---"
   ]
  },
  {
   "cell_type": "markdown",
   "metadata": {},
   "source": [
    "##### The Tutorial will take place online on Thursday, Nov 12th 2020 at 4:00pm (CET)<br><br>This Assignment is due on Monday, Nov 16th 2020 at 11:59pm (CET)\n"
   ]
  },
  {
   "cell_type": "markdown",
   "metadata": {},
   "source": [
    "Welcome to the assignments for Big Data Management and Analytics!<br>This Assignment doubles as a refresher for your Python knowledge as well as giving you an introduction to the commands and features of standard python libraries like pandas, numpy, sklearn, etc. We will also try to give you a first overview on how a big data project could look like.<br>"
   ]
  },
  {
   "cell_type": "markdown",
   "metadata": {},
   "source": [
    "## Goals"
   ]
  },
  {
   "cell_type": "markdown",
   "metadata": {},
   "source": [
    "The overall goal of this assignment is to (re)introduce Python and some important libraries and give you a deeper understanding on how a basic classifier works. As classification is only mentioned briefly in the lecture we will try to give you a more detailed introduction, so this will be a lot to read, so bear with us! ;)\n",
    "<br><br>\n",
    "In this assignment we will train a classifier to identify the cultivator of a wine based on the features present in the dataset.<br> The data was collected in the scope of a chemical analysis of wine grown in the same region in Italy by three different cultivators, let's call them Neutesino (0), Don Camillo (1) and San Berulsconi (2)."
   ]
  },
  {
   "cell_type": "markdown",
   "metadata": {},
   "source": [
    "## Step 0 - Setup"
   ]
  },
  {
   "cell_type": "code",
   "execution_count": 1,
   "metadata": {
    "scrolled": true
   },
   "outputs": [],
   "source": [
    "## First, ensure that you use the correct python version (should be 3.8.x)\n",
    "\n",
    "#!source venv/bin/activate\n",
    "#!alias python=python3\n",
    "!python --version"
   ]
  },
  {
   "cell_type": "code",
   "execution_count": 2,
   "metadata": {},
   "outputs": [],
   "source": [
    "## First we need to import the used libraries where \n",
    "#  additional code is (and will be) written\n",
    "import random\n",
    "import matplotlib.pyplot as plt\n",
    "import pandas as pd\n",
    "import numpy as np\n",
    "\n",
    "rnd_seed=42\n",
    "np.random.seed(seed=rnd_seed)\n",
    "\n",
    "%load_ext autoreload\n",
    "%autoreload 2\n",
    "%reload_ext autoreload\n",
    "\n",
    "## This is a bit of magic to make matplotlib figures appear inline in the notebook \n",
    "#  rather than in a new window.\n",
    "%matplotlib inline\n",
    "plt.rcParams['figure.figsize'] = (10.0, 8.0) # set default size of plots"
   ]
  },
  {
   "cell_type": "code",
   "execution_count": 3,
   "metadata": {},
   "outputs": [
    {
     "data": {
      "text/html": [
       "<div>\n",
       "<style scoped>\n",
       "    .dataframe tbody tr th:only-of-type {\n",
       "        vertical-align: middle;\n",
       "    }\n",
       "\n",
       "    .dataframe tbody tr th {\n",
       "        vertical-align: top;\n",
       "    }\n",
       "\n",
       "    .dataframe thead th {\n",
       "        text-align: right;\n",
       "    }\n",
       "</style>\n",
       "<table border=\"1\" class=\"dataframe\">\n",
       "  <thead>\n",
       "    <tr style=\"text-align: right;\">\n",
       "      <th></th>\n",
       "      <th>alcohol</th>\n",
       "      <th>malic_acid</th>\n",
       "      <th>ash</th>\n",
       "      <th>alcalinity_of_ash</th>\n",
       "      <th>magnesium</th>\n",
       "      <th>total_phenols</th>\n",
       "      <th>flavanoids</th>\n",
       "      <th>nonflavanoid_phenols</th>\n",
       "      <th>proanthocyanins</th>\n",
       "      <th>color_intensity</th>\n",
       "      <th>hue</th>\n",
       "      <th>od280/od315_of_diluted_wines</th>\n",
       "      <th>proline</th>\n",
       "      <th>target</th>\n",
       "      <th>cultivator</th>\n",
       "    </tr>\n",
       "  </thead>\n",
       "  <tbody>\n",
       "    <tr>\n",
       "      <th>0</th>\n",
       "      <td>12.37</td>\n",
       "      <td>0.94</td>\n",
       "      <td>1.36</td>\n",
       "      <td>10.6</td>\n",
       "      <td>88.0</td>\n",
       "      <td>1.98</td>\n",
       "      <td>0.57</td>\n",
       "      <td>0.28</td>\n",
       "      <td>0.42</td>\n",
       "      <td>1.95</td>\n",
       "      <td>1.05</td>\n",
       "      <td>1.82</td>\n",
       "      <td>520.0</td>\n",
       "      <td>1</td>\n",
       "      <td>Don Camillo</td>\n",
       "    </tr>\n",
       "    <tr>\n",
       "      <th>1</th>\n",
       "      <td>12.33</td>\n",
       "      <td>1.10</td>\n",
       "      <td>2.28</td>\n",
       "      <td>16.0</td>\n",
       "      <td>101.0</td>\n",
       "      <td>2.05</td>\n",
       "      <td>1.09</td>\n",
       "      <td>0.63</td>\n",
       "      <td>0.41</td>\n",
       "      <td>3.27</td>\n",
       "      <td>1.25</td>\n",
       "      <td>1.67</td>\n",
       "      <td>680.0</td>\n",
       "      <td>1</td>\n",
       "      <td>Don Camillo</td>\n",
       "    </tr>\n",
       "    <tr>\n",
       "      <th>2</th>\n",
       "      <td>12.64</td>\n",
       "      <td>1.36</td>\n",
       "      <td>2.02</td>\n",
       "      <td>16.8</td>\n",
       "      <td>100.0</td>\n",
       "      <td>2.02</td>\n",
       "      <td>1.41</td>\n",
       "      <td>0.53</td>\n",
       "      <td>0.62</td>\n",
       "      <td>5.75</td>\n",
       "      <td>0.98</td>\n",
       "      <td>1.59</td>\n",
       "      <td>450.0</td>\n",
       "      <td>1</td>\n",
       "      <td>Don Camillo</td>\n",
       "    </tr>\n",
       "    <tr>\n",
       "      <th>3</th>\n",
       "      <td>13.67</td>\n",
       "      <td>1.25</td>\n",
       "      <td>1.92</td>\n",
       "      <td>18.0</td>\n",
       "      <td>94.0</td>\n",
       "      <td>2.10</td>\n",
       "      <td>1.79</td>\n",
       "      <td>0.32</td>\n",
       "      <td>0.73</td>\n",
       "      <td>3.80</td>\n",
       "      <td>1.23</td>\n",
       "      <td>2.46</td>\n",
       "      <td>630.0</td>\n",
       "      <td>1</td>\n",
       "      <td>Don Camillo</td>\n",
       "    </tr>\n",
       "    <tr>\n",
       "      <th>4</th>\n",
       "      <td>12.37</td>\n",
       "      <td>1.13</td>\n",
       "      <td>2.16</td>\n",
       "      <td>19.0</td>\n",
       "      <td>87.0</td>\n",
       "      <td>3.50</td>\n",
       "      <td>3.10</td>\n",
       "      <td>0.19</td>\n",
       "      <td>1.87</td>\n",
       "      <td>4.45</td>\n",
       "      <td>1.22</td>\n",
       "      <td>2.87</td>\n",
       "      <td>420.0</td>\n",
       "      <td>1</td>\n",
       "      <td>Don Camillo</td>\n",
       "    </tr>\n",
       "  </tbody>\n",
       "</table>\n",
       "</div>"
      ],
      "text/plain": [
       "   alcohol  malic_acid   ash  alcalinity_of_ash  magnesium  total_phenols  \\\n",
       "0    12.37        0.94  1.36               10.6       88.0           1.98   \n",
       "1    12.33        1.10  2.28               16.0      101.0           2.05   \n",
       "2    12.64        1.36  2.02               16.8      100.0           2.02   \n",
       "3    13.67        1.25  1.92               18.0       94.0           2.10   \n",
       "4    12.37        1.13  2.16               19.0       87.0           3.50   \n",
       "\n",
       "   flavanoids  nonflavanoid_phenols  proanthocyanins  color_intensity   hue  \\\n",
       "0        0.57                  0.28             0.42             1.95  1.05   \n",
       "1        1.09                  0.63             0.41             3.27  1.25   \n",
       "2        1.41                  0.53             0.62             5.75  0.98   \n",
       "3        1.79                  0.32             0.73             3.80  1.23   \n",
       "4        3.10                  0.19             1.87             4.45  1.22   \n",
       "\n",
       "   od280/od315_of_diluted_wines  proline  target   cultivator  \n",
       "0                          1.82    520.0       1  Don Camillo  \n",
       "1                          1.67    680.0       1  Don Camillo  \n",
       "2                          1.59    450.0       1  Don Camillo  \n",
       "3                          2.46    630.0       1  Don Camillo  \n",
       "4                          2.87    420.0       1  Don Camillo  "
      ]
     },
     "execution_count": 3,
     "metadata": {},
     "output_type": "execute_result"
    }
   ],
   "source": [
    "## Next we load the provided dataset and display the first 5 lines (the head) of it. \n",
    "#  You can change the number of lines shown by adding a number inside the parenthesis, \n",
    "#  i.e. head(10) will give you the first 10 lines instead\n",
    "df = pd.read_csv('wine_dataset.csv')\n",
    "df.head()"
   ]
  },
  {
   "cell_type": "markdown",
   "metadata": {},
   "source": [
    "# Step 1: Describe, Visualize and Preprocess the Dataset"
   ]
  },
  {
   "cell_type": "code",
   "execution_count": 4,
   "metadata": {
    "scrolled": true
   },
   "outputs": [
    {
     "data": {
      "text/plain": [
       "Index(['alcohol', 'malic_acid', 'ash', 'alcalinity_of_ash', 'magnesium',\n",
       "       'total_phenols', 'flavanoids', 'nonflavanoid_phenols',\n",
       "       'proanthocyanins', 'color_intensity', 'hue',\n",
       "       'od280/od315_of_diluted_wines', 'proline', 'target', 'cultivator'],\n",
       "      dtype='object')"
      ]
     },
     "execution_count": 4,
     "metadata": {},
     "output_type": "execute_result"
    }
   ],
   "source": [
    "## Let's get a more in-dept look at our data. In Step 0 you already used the head()\n",
    "#  statement which shows the structure and the first few entries in the dataset.\n",
    "#  Now, if we only want to display the header (aka the column names) you can use the\n",
    "#  'columns' comand to get a list of the heading\n",
    "df.columns"
   ]
  },
  {
   "cell_type": "code",
   "execution_count": 5,
   "metadata": {},
   "outputs": [
    {
     "data": {
      "image/png": "[encoded data removed]",
      "text/plain": [
       "<Figure size 720x576 with 16 Axes>"
      ]
     },
     "metadata": {
      "needs_background": "light"
     },
     "output_type": "display_data"
    }
   ],
   "source": [
    "## A good idea when you start off with an unknown dataset is also to take a look\n",
    "#  at the different distributions of the values. You can use the 'hist()' command\n",
    "#  to plot a collection of histograms, one for each feature in the dataset. \n",
    "#  Take a good look at it, you might notice something that will be relevant\n",
    "#  later on!\n",
    "df.hist()\n",
    "plt.show()"
   ]
  },
  {
   "cell_type": "code",
   "execution_count": 6,
   "metadata": {},
   "outputs": [
    {
     "data": {
      "text/html": [
       "<div>\n",
       "<style scoped>\n",
       "    .dataframe tbody tr th:only-of-type {\n",
       "        vertical-align: middle;\n",
       "    }\n",
       "\n",
       "    .dataframe tbody tr th {\n",
       "        vertical-align: top;\n",
       "    }\n",
       "\n",
       "    .dataframe thead th {\n",
       "        text-align: right;\n",
       "    }\n",
       "</style>\n",
       "<table border=\"1\" class=\"dataframe\">\n",
       "  <thead>\n",
       "    <tr style=\"text-align: right;\">\n",
       "      <th></th>\n",
       "      <th>alcohol</th>\n",
       "      <th>malic_acid</th>\n",
       "      <th>ash</th>\n",
       "      <th>alcalinity_of_ash</th>\n",
       "      <th>magnesium</th>\n",
       "      <th>total_phenols</th>\n",
       "      <th>flavanoids</th>\n",
       "      <th>nonflavanoid_phenols</th>\n",
       "      <th>proanthocyanins</th>\n",
       "      <th>color_intensity</th>\n",
       "      <th>hue</th>\n",
       "      <th>od280/od315_of_diluted_wines</th>\n",
       "      <th>proline</th>\n",
       "      <th>target</th>\n",
       "    </tr>\n",
       "  </thead>\n",
       "  <tbody>\n",
       "    <tr>\n",
       "      <th>count</th>\n",
       "      <td>119.000000</td>\n",
       "      <td>119.000000</td>\n",
       "      <td>119.000000</td>\n",
       "      <td>119.00000</td>\n",
       "      <td>119.000000</td>\n",
       "      <td>119.000000</td>\n",
       "      <td>119.000000</td>\n",
       "      <td>119.000000</td>\n",
       "      <td>119.000000</td>\n",
       "      <td>119.000000</td>\n",
       "      <td>119.000000</td>\n",
       "      <td>119.000000</td>\n",
       "      <td>119.000000</td>\n",
       "      <td>119.000000</td>\n",
       "    </tr>\n",
       "    <tr>\n",
       "      <th>mean</th>\n",
       "      <td>12.771092</td>\n",
       "      <td>2.154874</td>\n",
       "      <td>2.330420</td>\n",
       "      <td>19.47563</td>\n",
       "      <td>97.647059</td>\n",
       "      <td>2.295210</td>\n",
       "      <td>2.093445</td>\n",
       "      <td>0.358151</td>\n",
       "      <td>1.587143</td>\n",
       "      <td>4.020588</td>\n",
       "      <td>1.017277</td>\n",
       "      <td>2.738992</td>\n",
       "      <td>693.504202</td>\n",
       "      <td>0.899160</td>\n",
       "    </tr>\n",
       "    <tr>\n",
       "      <th>std</th>\n",
       "      <td>0.840584</td>\n",
       "      <td>1.080574</td>\n",
       "      <td>0.299354</td>\n",
       "      <td>3.41946</td>\n",
       "      <td>15.339430</td>\n",
       "      <td>0.603658</td>\n",
       "      <td>0.913480</td>\n",
       "      <td>0.123068</td>\n",
       "      <td>0.603788</td>\n",
       "      <td>1.568010</td>\n",
       "      <td>0.206160</td>\n",
       "      <td>0.652752</td>\n",
       "      <td>320.823302</td>\n",
       "      <td>0.629702</td>\n",
       "    </tr>\n",
       "    <tr>\n",
       "      <th>min</th>\n",
       "      <td>11.030000</td>\n",
       "      <td>0.740000</td>\n",
       "      <td>1.360000</td>\n",
       "      <td>10.60000</td>\n",
       "      <td>70.000000</td>\n",
       "      <td>0.980000</td>\n",
       "      <td>0.340000</td>\n",
       "      <td>0.130000</td>\n",
       "      <td>0.410000</td>\n",
       "      <td>1.280000</td>\n",
       "      <td>0.540000</td>\n",
       "      <td>1.270000</td>\n",
       "      <td>278.000000</td>\n",
       "      <td>0.000000</td>\n",
       "    </tr>\n",
       "    <tr>\n",
       "      <th>25%</th>\n",
       "      <td>12.165000</td>\n",
       "      <td>1.475000</td>\n",
       "      <td>2.180000</td>\n",
       "      <td>17.35000</td>\n",
       "      <td>86.500000</td>\n",
       "      <td>1.820000</td>\n",
       "      <td>1.480000</td>\n",
       "      <td>0.265000</td>\n",
       "      <td>1.235000</td>\n",
       "      <td>2.800000</td>\n",
       "      <td>0.885000</td>\n",
       "      <td>2.305000</td>\n",
       "      <td>456.500000</td>\n",
       "      <td>0.500000</td>\n",
       "    </tr>\n",
       "    <tr>\n",
       "      <th>50%</th>\n",
       "      <td>12.600000</td>\n",
       "      <td>1.770000</td>\n",
       "      <td>2.320000</td>\n",
       "      <td>19.40000</td>\n",
       "      <td>95.000000</td>\n",
       "      <td>2.320000</td>\n",
       "      <td>2.140000</td>\n",
       "      <td>0.340000</td>\n",
       "      <td>1.570000</td>\n",
       "      <td>3.800000</td>\n",
       "      <td>1.030000</td>\n",
       "      <td>2.830000</td>\n",
       "      <td>600.000000</td>\n",
       "      <td>1.000000</td>\n",
       "    </tr>\n",
       "    <tr>\n",
       "      <th>75%</th>\n",
       "      <td>13.375000</td>\n",
       "      <td>2.555000</td>\n",
       "      <td>2.515000</td>\n",
       "      <td>21.50000</td>\n",
       "      <td>103.000000</td>\n",
       "      <td>2.770000</td>\n",
       "      <td>2.760000</td>\n",
       "      <td>0.430000</td>\n",
       "      <td>1.935000</td>\n",
       "      <td>5.000000</td>\n",
       "      <td>1.160000</td>\n",
       "      <td>3.195000</td>\n",
       "      <td>845.000000</td>\n",
       "      <td>1.000000</td>\n",
       "    </tr>\n",
       "    <tr>\n",
       "      <th>max</th>\n",
       "      <td>14.830000</td>\n",
       "      <td>5.800000</td>\n",
       "      <td>3.230000</td>\n",
       "      <td>30.00000</td>\n",
       "      <td>162.000000</td>\n",
       "      <td>3.850000</td>\n",
       "      <td>5.080000</td>\n",
       "      <td>0.660000</td>\n",
       "      <td>3.580000</td>\n",
       "      <td>8.700000</td>\n",
       "      <td>1.710000</td>\n",
       "      <td>4.000000</td>\n",
       "      <td>1680.000000</td>\n",
       "      <td>2.000000</td>\n",
       "    </tr>\n",
       "  </tbody>\n",
       "</table>\n",
       "</div>"
      ],
      "text/plain": [
       "          alcohol  malic_acid         ash  alcalinity_of_ash   magnesium  \\\n",
       "count  119.000000  119.000000  119.000000          119.00000  119.000000   \n",
       "mean    12.771092    2.154874    2.330420           19.47563   97.647059   \n",
       "std      0.840584    1.080574    0.299354            3.41946   15.339430   \n",
       "min     11.030000    0.740000    1.360000           10.60000   70.000000   \n",
       "25%     12.165000    1.475000    2.180000           17.35000   86.500000   \n",
       "50%     12.600000    1.770000    2.320000           19.40000   95.000000   \n",
       "75%     13.375000    2.555000    2.515000           21.50000  103.000000   \n",
       "max     14.830000    5.800000    3.230000           30.00000  162.000000   \n",
       "\n",
       "       total_phenols  flavanoids  nonflavanoid_phenols  proanthocyanins  \\\n",
       "count     119.000000  119.000000            119.000000       119.000000   \n",
       "mean        2.295210    2.093445              0.358151         1.587143   \n",
       "std         0.603658    0.913480              0.123068         0.603788   \n",
       "min         0.980000    0.340000              0.130000         0.410000   \n",
       "25%         1.820000    1.480000              0.265000         1.235000   \n",
       "50%         2.320000    2.140000              0.340000         1.570000   \n",
       "75%         2.770000    2.760000              0.430000         1.935000   \n",
       "max         3.850000    5.080000              0.660000         3.580000   \n",
       "\n",
       "       color_intensity         hue  od280/od315_of_diluted_wines      proline  \\\n",
       "count       119.000000  119.000000                    119.000000   119.000000   \n",
       "mean          4.020588    1.017277                      2.738992   693.504202   \n",
       "std           1.568010    0.206160                      0.652752   320.823302   \n",
       "min           1.280000    0.540000                      1.270000   278.000000   \n",
       "25%           2.800000    0.885000                      2.305000   456.500000   \n",
       "50%           3.800000    1.030000                      2.830000   600.000000   \n",
       "75%           5.000000    1.160000                      3.195000   845.000000   \n",
       "max           8.700000    1.710000                      4.000000  1680.000000   \n",
       "\n",
       "           target  \n",
       "count  119.000000  \n",
       "mean     0.899160  \n",
       "std      0.629702  \n",
       "min      0.000000  \n",
       "25%      0.500000  \n",
       "50%      1.000000  \n",
       "75%      1.000000  \n",
       "max      2.000000  "
      ]
     },
     "execution_count": 6,
     "metadata": {},
     "output_type": "execute_result"
    }
   ],
   "source": [
    "## If you are more into numbers, or want to take a more specific look, the \n",
    "#  'describe()' command is the way to go. It will show you the most common\n",
    "#  statistical measures such as mean or minimum and maximum value, again per \n",
    "#  column.\n",
    "#  This is also a great way to find potential outliers or faulty data.\n",
    "df.describe()"
   ]
  },
  {
   "cell_type": "markdown",
   "metadata": {},
   "source": [
    "After getting a better overview over our dataset, we now need to \"extract\" the labels we later on want to classify.\n",
    "<br>\n",
    "Remember, Classification is a Supervised Learning task where you use a labeled training set to \"train\" a classifier to recognize similar structures or rules in the data and group them together by the given labels."
   ]
  },
  {
   "cell_type": "code",
   "execution_count": 7,
   "metadata": {},
   "outputs": [],
   "source": [
    "## Usually this is done by separating the data into two different (numpy)\n",
    "#  arrays, where one is called (capital) X and holds all features,\n",
    "#  and y which stores the corresponding labels.\n",
    "\n",
    "df_measurements = df.drop(columns=['target', 'cultivator'])\n",
    "df_labels = df[['target']]\n",
    "\n",
    "X = df_measurements.to_numpy()\n",
    "y = df_labels.to_numpy().astype('int')"
   ]
  },
  {
   "cell_type": "markdown",
   "metadata": {},
   "source": [
    "## Step 2: Implement common Train/Test Set Split by Test Set Size"
   ]
  },
  {
   "cell_type": "markdown",
   "metadata": {},
   "source": [
    "Next, we need to split the dataset again, this time to make two smaller sets, one used for training and one for testing, therefore it is called Train/Test Split. This can be done in various ways. Usually you want about 80% train and 20% test data, but it varies depending on the application."
   ]
  },
  {
   "cell_type": "markdown",
   "metadata": {},
   "source": [
    "### <font color='#782769'>Now it's your turn!<br> TODO #1:</font>"
   ]
  },
  {
   "cell_type": "code",
   "execution_count": 8,
   "metadata": {},
   "outputs": [
    {
     "name": "stdout",
     "output_type": "stream",
     "text": [
      "Shapes - X_train: (95, 13), X_test: (24, 13), y_train: (95, 1), y_test: (24, 1)\n"
     ]
    }
   ],
   "source": [
    "## In utils.py you will find a prepared python function called\n",
    "#  train_test_split(). Use numpy array split operations to divide the\n",
    "#  dataset into a train and test set. Remember, that you already excluded\n",
    "#  the label, so you end up with a X_train, X_test and y_train, y_test.\n",
    "\n",
    "from bdma.utils import train_test_split\n",
    "\n",
    "size_testset = 0.2\n",
    "X_train, X_test, y_train, y_test = train_test_split(X, y, test_size=size_testset, random_state=rnd_seed)\n",
    "\n",
    "## Make sure the shape (dimensions) of your dataframes are correct! \n",
    "#  Your X_train and X_test should now have 0.8*totalRowNumber (95) and \n",
    "#  0.2*totalRowNumber (24) respectively as row count and all non-label \n",
    "#  features (in our case 13). Whereas y_train and y_test have the exact\n",
    "#  same number of rows but only one feature, the label. \n",
    "\n",
    "print(f\"Shapes - X_train: {X_train.shape}, X_test: {X_test.shape}, y_train: {y_train.shape}, y_test: {y_test.shape}\")"
   ]
  },
  {
   "cell_type": "markdown",
   "metadata": {},
   "source": [
    "## Step 3 - Implementing Cross Validation"
   ]
  },
  {
   "cell_type": "markdown",
   "metadata": {},
   "source": [
    "In practice, we don't want to rely on a single random (or not so random) selection of data rows present in our testset. To train our model better and make it more robust we need to implement a different kind of Train/Test Split, so-called Cross Validation. When Cross validating a dataset, you not only make one split, but several iterations each time taking a different disjunct set of samples as test set. <br>\n",
    "<img src=\"crossvalidation.png\" width=600 height=600>\n",
    "\n",
    "If you want more detailed information check out the [Wikipedia Page](https://en.wikipedia.org/wiki/Cross-validation_(statistics))."
   ]
  },
  {
   "cell_type": "markdown",
   "metadata": {},
   "source": [
    "### <font color='#782769'>Now it's your turn!<br> TODO #2:</font>"
   ]
  },
  {
   "cell_type": "code",
   "execution_count": 9,
   "metadata": {},
   "outputs": [
    {
     "name": "stdout",
     "output_type": "stream",
     "text": [
      "1 - X_train: (76, 13), X_valid: (19, 13), y_train: (76, 1), y_valid: (19, 1)\n",
      "2 - X_train: (76, 13), X_valid: (19, 13), y_train: (76, 1), y_valid: (19, 1)\n",
      "3 - X_train: (76, 13), X_valid: (19, 13), y_train: (76, 1), y_valid: (19, 1)\n",
      "4 - X_train: (76, 13), X_valid: (19, 13), y_train: (76, 1), y_valid: (19, 1)\n",
      "5 - X_train: (76, 13), X_valid: (19, 13), y_train: (76, 1), y_valid: (19, 1)\n"
     ]
    }
   ],
   "source": [
    "## Again, you will finde a prepared python function in utils.py called\n",
    "#  cross_train_valid_split(). Complete the code there to generate 5 \n",
    "#  different Train/Test splits.\n",
    "\n",
    "from bdma.utils import cross_train_valid_split\n",
    "\n",
    "val_sets = cross_train_valid_split(X_train, y_train, folds=5, shuffle=True, random_state=rnd_seed, verbose=False)\n",
    "\n",
    "## Again, make sure that the dimensions of your splits are correct.\n",
    "\n",
    "for vs in range(len(val_sets)):\n",
    "    print(f\"{vs+1} - X_train: {val_sets[vs]['X_train'].shape}, X_valid: {val_sets[vs]['X_valid'].shape}, y_train: {val_sets[vs]['y_train'].shape}, y_valid: {val_sets[vs]['y_valid'].shape}\")"
   ]
  },
  {
   "cell_type": "markdown",
   "metadata": {},
   "source": [
    "## Step 4 - _k_NN Classifcation"
   ]
  },
  {
   "cell_type": "markdown",
   "metadata": {},
   "source": [
    "A kNN Classifier is a basic classification model that only has one parameter: _k_ (Actually there are more things to adjust but let's keep it simple here^^). The basic idea of this algorithm is that similar things are placed close together when looking at the different features. For example if you take a look at this plottet dataset (from MathWorks.com):\n",
    "<img src='https://de.mathworks.com/matlabcentral/mlc-downloads/downloads/03faee64-e85e-4ea0-a2b4-e5964949e2d1/d99b9a4d-618c-45f0-86d1-388bdf852c1d/images/screenshot.gif'><br>\n",
    "Imagine the x-axis shows the weight and the y-axis the height from different kinds of animals. One of them is the green group of relatively small animals (i.e. cats) that vary in weight. There is another group depicted in orange, that is lighter or similar in weight but taller (i.e. foxes) and the last group in blue which represents a taller and mostly heavier species (i.e. dogs). (Disclaimer: The dataset has nothing to do with animals OR wine, I just used the picture to make it more clear!^^) When we now get a new sample, x, a _k_NN Classifier computes the distance to all other points in the dataset and identifies the closest _k_ samples. The majority of these (known) labels is then assigned to x as a label. In this case x would be classified as fox (orange class) because 4 out of 5 nearest neighbors are foxes. \n",
    "If you want to read more about this, I suggest you take a look at [this](https://towardsdatascience.com/machine-learning-basics-with-the-k-nearest-neighbors-algorithm-6a6e71d01761) article."
   ]
  },
  {
   "cell_type": "markdown",
   "metadata": {},
   "source": [
    "### <font color='#782769'>Now it's your turn!<br> TODO #3:</font>"
   ]
  },
  {
   "cell_type": "code",
   "execution_count": 52,
   "metadata": {
    "scrolled": true
   },
   "outputs": [],
   "source": [
    "## When you take a look at the knn_classifier.py file you will find a \n",
    "#  prepared code structure to write your own kNN Classifier.\n",
    "#  Don't worry, we already gave you most of it, there are just some\n",
    "#  parts missing you need to fill out. When you are done with your\n",
    "#  code import it into this project.\n",
    "\n",
    "from bdma.knn_classifier import KNeighborsClassifier"
   ]
  },
  {
   "cell_type": "markdown",
   "metadata": {},
   "source": [
    "The next thing we need is a evaluation how good your classifier did. The most common measurement for this is the **accuracy**. Accuracy is calculated by the number of correctly classified samples in each class, divided by the total number of samples in the test(!)."
   ]
  },
  {
   "cell_type": "markdown",
   "metadata": {},
   "source": [
    "### <font color='#782769'>Now it's your turn!<br> TODO #4:</font>"
   ]
  },
  {
   "cell_type": "code",
   "execution_count": 11,
   "metadata": {},
   "outputs": [],
   "source": [
    "## In metrics.py you will find an empty python function for\n",
    "#  calculating the accuracy, given the actual labels of the \n",
    "#  dataset (y_test) and the predicted ones from your classifier\n",
    "#  (y_pred). Compare the results and divide the number of \n",
    "#  correctly classified samples by the total number tested.\n",
    "#  Afterwards import your accuracy_score code to this file.\n",
    "\n",
    "from bdma.metrics import accuracy_score"
   ]
  },
  {
   "cell_type": "code",
   "execution_count": 57,
   "metadata": {},
   "outputs": [
    {
     "name": "stdout",
     "output_type": "stream",
     "text": [
      "accuracy_score: 0.2916666666666667\n",
      "kNN: \n",
      " [[0. 0. 0. 0. 0.]\n",
      " [0. 0. 0. 0. 0.]\n",
      " [0. 0. 0. 0. 0.]\n",
      " [0. 0. 0. 0. 0.]\n",
      " [0. 0. 0. 0. 0.]]\n"
     ]
    }
   ],
   "source": [
    "## Let's test if everything is working. This is the place to execute \n",
    "#  your code.\n",
    "\n",
    "from sklearn import preprocessing\n",
    "from bdma.metrics import get_metric, accuracy_score\n",
    "\n",
    "## Set k to 5 for a start, so we will only look at the 5 closest points.\n",
    "#  If implemented correctly your algorithm should return an\n",
    "#  accuracy_score of 0.75\n",
    "#  and a list for the first 5 entries of the test set with their neighbors:\n",
    "#  [[ 0 51 87  1  9]\n",
    "#   [30 42 10 70 22]\n",
    "#   [ 0 51 45 68 44]\n",
    "#   [72 82  7 73 78]\n",
    "#   [44 27 77 32 68]]\n",
    "\n",
    "n_neighbors=5\n",
    "clfKNN = KNeighborsClassifier(n_neighbors=n_neighbors)\n",
    "clfKNN.fit(preprocessing.normalize(X_train, norm='l2'), y_train.ravel())\n",
    "kNN = clfKNN.kneighbors(X_test[:5], return_distance=False)\n",
    "print(f\"{get_metric(clfKNN, X_test, y_test, metric=accuracy_score)}\")\n",
    "print(f\"kNN: \\n {kNN}\")"
   ]
  },
  {
   "cell_type": "code",
   "execution_count": null,
   "metadata": {},
   "outputs": [],
   "source": [
    "# As long as you have no working solution or get stuck anywhere,\n",
    "#  you can use this sklearn-call and import a kNN Classifier.\n",
    "\n",
    "# from sklearn.neighbors import KNeighborsClassifier"
   ]
  },
  {
   "cell_type": "markdown",
   "metadata": {},
   "source": [
    "## Part 5 -  Hyperparameter Optimization and Tuning"
   ]
  },
  {
   "cell_type": "markdown",
   "metadata": {},
   "source": [
    "Now that we can see some results and get a score, we can start to tune and change our parameter (_k_). For this we will make a very basic optimization called... Brute Force! :P That's right, we're just gonna try them all! Well actually, we are not trying _all_ numbers. If you think about it, using a _k_ which is higher than the number of points in the dataset doesn't make any sense at all and also using a very high number (therefore looking at _almost_ every sample) is also not very helpful and the performance goes down...<br> <font color='#782769'>**Why do you think this is the case?**</font><br>"
   ]
  },
  {
   "cell_type": "markdown",
   "metadata": {},
   "source": [
    "_..._"
   ]
  },
  {
   "cell_type": "markdown",
   "metadata": {},
   "source": [
    "So starting from just looking at the one clostest neighbor, we will increase the number of neighbors each iteration until the given upper limit, called _runs_ in the code below. To save the best result for further use, you need to complete the optimization code by adding a small part and then print the best parameter choice:"
   ]
  },
  {
   "cell_type": "markdown",
   "metadata": {},
   "source": [
    "### <font color='#782769'>Now it's your turn!<br> TODO #5:</font>"
   ]
  },
  {
   "cell_type": "code",
   "execution_count": 22,
   "metadata": {
    "scrolled": true
   },
   "outputs": [
    {
     "name": "stdout",
     "output_type": "stream",
     "text": [
      "Best Hyperparameter: 0\n",
      "Best Accuracy Score Value: 0\n"
     ]
    },
    {
     "data": {
      "image/png": "[encoded data removed]",
      "text/plain": [
       "<Figure size 720x576 with 1 Axes>"
      ]
     },
     "metadata": {
      "needs_background": "light"
     },
     "output_type": "display_data"
    }
   ],
   "source": [
    "## We will now execute our classifier multiple times, each time increasing\n",
    "#  the number of k.\n",
    "\n",
    "from bdma.utils import visualize_hyperparams\n",
    "from bdma.utils import train_clf_with_cross_valid\n",
    "\n",
    "#  The upper limit for our k and therefore the number of runs\n",
    "runs=5\n",
    "\n",
    "#  Space to save the results in\n",
    "results = []\n",
    "\n",
    "#  As we are using Cross Validation we need to specify the number of \n",
    "#  sets, above we used 5, here we will go with 10.\n",
    "n_fold = 10\n",
    "#  And this time we will shuffle the samples for a even better \n",
    "#  Train/Validation split.\n",
    "shuffle = True\n",
    "\n",
    "neighbor_range = range(1, runs)\n",
    "\n",
    "## In these variables, we will save the k that gave us the best results\n",
    "#  (in best_hyperparam) as well as the score we could reach with this \n",
    "#  configuration (best_value).\n",
    "best_hyperparam = 0\n",
    "best_value = 0\n",
    "\n",
    "for run in range(0,runs-1):\n",
    "\n",
    "    hyperparams = {\n",
    "        'n_neighbor': neighbor_range[run]\n",
    "    }\n",
    "    \n",
    "    clfCustKNN = KNeighborsClassifier(n_neighbors=hyperparams['n_neighbor'])\n",
    "    validation_metric_val = train_clf_with_cross_valid(clfCustKNN, n_fold, X_train, y_train, clf_name='kNN', \n",
    "                                                   shuffle=shuffle, metric=accuracy_score)\n",
    "    results.append({**hyperparams, 'validation_metric_val': validation_metric_val, 'model': clfCustKNN})\n",
    "    \n",
    "#****  PUT YOUR CODE FOR TODO#5 HERE  ****#\n",
    "# Keep track of the best metric score and the corresponding hyperparameter\n",
    "\n",
    "\n",
    "\n",
    "\n",
    "    \n",
    "## After all iterations we can plot all resulting scores with their \n",
    "#  respective k value.\n",
    "visualize_hyperparams(results, test_metric_col='validation_metric_val')\n",
    "\n",
    "print(f\"Best Hyperparameter: {best_hyperparam}\")\n",
    "print(f\"Best Accuracy Score Value: {best_value}\")"
   ]
  },
  {
   "cell_type": "markdown",
   "metadata": {},
   "source": [
    "Now, let's use this new parameter and take a look at the accuracy score. Did it change?"
   ]
  },
  {
   "cell_type": "code",
   "execution_count": 25,
   "metadata": {
    "scrolled": true
   },
   "outputs": [
    {
     "name": "stdout",
     "output_type": "stream",
     "text": [
      "accuracy_score: 0.7083333333333334 (clfKNN)\n"
     ]
    }
   ],
   "source": [
    "## Add your Parameter here in place of 1\n",
    "n_neighbors=1\n",
    "clfKNN = KNeighborsClassifier(n_neighbors=n_neighbors)\n",
    "clfKNN.fit(preprocessing.normalize(X_train, norm='l2'), y_train.ravel())\n",
    "print(f\"{get_metric(clfKNN, X_test, y_test)} (clfKNN)\")"
   ]
  },
  {
   "cell_type": "markdown",
   "metadata": {},
   "source": [
    "Your test accuracy should now be ~ 0.79."
   ]
  },
  {
   "cell_type": "markdown",
   "metadata": {},
   "source": [
    "Questions every Data Scientist should always ask:<br>\n",
    "<font color='#782769'>**Am I using the right model for this tasks?** <br> **Is the current performance measurement actually a good representation of the performance of my model?** </font>\n",
    "\n",
    "Let's take a quick look at another so-called Dummy Classifier. A Dummy Classifier is simply a Model that always returns the label most frequent in the dataset. We will here simply import one from the sklearn library:"
   ]
  },
  {
   "cell_type": "code",
   "execution_count": 26,
   "metadata": {},
   "outputs": [
    {
     "name": "stdout",
     "output_type": "stream",
     "text": [
      "accuracy_score: 0.5833333333333334\n"
     ]
    }
   ],
   "source": [
    "from sklearn.dummy import DummyClassifier\n",
    "\n",
    "dummy = DummyClassifier(strategy='most_frequent')\n",
    "dummy.fit(X_train, y_train)\n",
    "print(f\"{get_metric(dummy, X_test, y_test)}\")"
   ]
  },
  {
   "cell_type": "markdown",
   "metadata": {},
   "source": [
    "Even the Dummy Classifier gets an \"okay\" result with an accuracy score of 0.58 simply by guessing the most frequent class. We should check out our dataset again. Remember all the Histograms from way up there? Let's take a closer look on one of the very last ones, the distribution of the target feature:"
   ]
  },
  {
   "cell_type": "code",
   "execution_count": 27,
   "metadata": {},
   "outputs": [
    {
     "data": {
      "image/png": "[encoded data removed]",
      "text/plain": [
       "<Figure size 720x576 with 1 Axes>"
      ]
     },
     "metadata": {
      "needs_background": "light"
     },
     "output_type": "display_data"
    }
   ],
   "source": [
    "from bdma.utils import show_dataset_distribution\n",
    "\n",
    "show_dataset_distribution(df, col_label_code='target', col_label_desc='cultivator')"
   ]
  },
  {
   "cell_type": "markdown",
   "metadata": {},
   "source": [
    "As you can see, this dataset is skewed, meaning there are way more entries from cultivator \"Don Camillo\" in there as there are from the other two. This also results in a skewed accurracy score. Because there are more datapoints with label \"Don Camillo\", the algorithm will most probably learn to classify the samples belonging to \"Don Camillo\" very well, but it will probably fail to identify and correctly classify the samples from the other two classes. To avoid something like this, a simple performance measurement like accuracy might not be sufficient. Fortunetly there are (more suited) alternatives:\n",
    "### Precision, Recall and F1 Measurement\n",
    "Precision and Recall are two measurements that take exactly this phenomena into account. Precision is a measurement for the number of selected samples that are relevant while recall depicts the number of relevant samples that are selected. In other words, out of all the points the classifier labeled as positive (belonging to one class), the number of correctly\n",
    "identified samples is the precision. Recall stands for the proportion of samples that actually belong to the positive label and that are found by the classifier. The F1 measurement is the harmonic mean out of these values and can be calculated as\n",
    "\n",
    "$$ F_1 = \\frac{2 ∗ Precision ∗ Recall}{Precision + Recall} $$\n",
    "\n",
    "As all three measures have their minimum at 0 and their maximum score at\n",
    "1, it is a simple but clear value to determine the quality of a classification\n",
    "process. The higher the value the more correct classifications have been made\n",
    "and the better the algorithm works. For more information, again check out the [Wikipedia Page]('https://en.wikipedia.org/wiki/Precision_and_recall').\n",
    "<img src='https://upload.wikimedia.org/wikipedia/commons/2/26/Precisionrecall.svg' height='400px'>"
   ]
  },
  {
   "cell_type": "markdown",
   "metadata": {},
   "source": [
    "### <font color='#782769'>Now it's your turn!<br> TODO #6 und #7:</font>"
   ]
  },
  {
   "cell_type": "code",
   "execution_count": null,
   "metadata": {},
   "outputs": [],
   "source": [
    "## In metrics.py you will find empty functions for precision, recall \n",
    "#  and the F1 Score. Implement all these functions for your classifier\n",
    "#  and re-do the hyperparameter tuning step. Code to execute your \n",
    "#  classifications is below:"
   ]
  },
  {
   "cell_type": "code",
   "execution_count": 37,
   "metadata": {},
   "outputs": [
    {
     "name": "stdout",
     "output_type": "stream",
     "text": [
      "Best Hyperparameter: 1\n",
      "Best F1 Score Value: 0.6638445214915804\n"
     ]
    },
    {
     "data": {
      "image/png": "[encoded data removed]",
      "text/plain": [
       "<Figure size 720x576 with 1 Axes>"
      ]
     },
     "metadata": {
      "needs_background": "light"
     },
     "output_type": "display_data"
    }
   ],
   "source": [
    "## Same code as above, this time we will use the F1 score to optimize.\n",
    "import numpy as np\n",
    "\n",
    "from bdma.metrics import f1_score\n",
    "\n",
    "#  Again, change the number of runs like you did above.\n",
    "runs=5\n",
    "\n",
    "results = []\n",
    "\n",
    "n_fold = 10\n",
    "shuffle = True\n",
    "neighbor_range = range(1, runs)\n",
    "\n",
    "best_value = 0\n",
    "best_hyperparam = 0\n",
    "\n",
    "for run in range(0,runs-1):\n",
    "\n",
    "    hyperparams = {\n",
    "        'n_neighbor': neighbor_range[run]\n",
    "    }\n",
    "    \n",
    "    clfCustKNN = KNeighborsClassifier(n_neighbors=hyperparams['n_neighbor'])\n",
    "    validation_metric_val = train_clf_with_cross_valid(clfCustKNN, n_fold, X_train, y_train, clf_name='kNN', \n",
    "                                                   shuffle=shuffle, metric=f1_score, args={'average':'macro'})\n",
    "    results.append({**hyperparams, 'validation_metric_val': validation_metric_val, 'model': clfCustKNN})\n",
    "    \n",
    "#****  PUT YOUR CODE FOR TODO#7 HERE  ****#\n",
    "# Keep track of the best metric score and the corresponding hyperparameter\n",
    "\n",
    "\n",
    "\n",
    "\n",
    "    \n",
    "    \n",
    "visualize_hyperparams(results, test_metric_col='validation_metric_val')\n",
    "\n",
    "print(f\"Best Hyperparameter: {best_hyperparam}\")\n",
    "print(f\"Best F1 Score Value: {best_value}\")"
   ]
  },
  {
   "cell_type": "markdown",
   "metadata": {},
   "source": [
    "Did the results change? You should have now gotten a different _k_ value as optimum. Use this new value to get even better classification results below. Compare your results to the ones from above."
   ]
  },
  {
   "cell_type": "code",
   "execution_count": 44,
   "metadata": {
    "scrolled": true
   },
   "outputs": [
    {
     "name": "stdout",
     "output_type": "stream",
     "text": [
      "old scores with hyperparam n_neighbors = 19:\n",
      "f1_score: 0.548076923076923\n",
      "accuracy_score: 0.7916666666666666\n",
      "new scores with hyperparam n_neighbors = 1:\n",
      "f1_score: 0.680223990568818\n",
      "accuracy_score: 0.7083333333333334\n"
     ]
    }
   ],
   "source": [
    "## To compare the results, again, use your \"old\" best parameter here: \n",
    "n_neighbors1=19\n",
    "clfKNN1 = KNeighborsClassifier(n_neighbors=n_neighbors1)\n",
    "clfKNN1.fit(preprocessing.normalize(X_train, norm='l2'), y_train.ravel())\n",
    "\n",
    "\n",
    "## And now put in your new best parameter:\n",
    "n_neighbors2=1\n",
    "clfKNN2 = KNeighborsClassifier(n_neighbors=n_neighbors2)\n",
    "clfKNN2.fit(preprocessing.normalize(X_train, norm='l2'), y_train.ravel())\n",
    "\n",
    "print(f\"old scores with hyperparam n_neighbors = {n_neighbors1}:\")\n",
    "print(f\"{get_metric(clfKNN1, X_test, y_test, metric=f1_score, args={'average':'macro'})}\")\n",
    "print(f\"{get_metric(clfKNN1, X_test, y_test, metric=accuracy_score)}\")\n",
    "\n",
    "print(f\"new scores with hyperparam n_neighbors = {n_neighbors2}:\")\n",
    "print(f\"{get_metric(clfKNN2, X_test, y_test, metric=f1_score, args={'average':'macro'})}\")\n",
    "print(f\"{get_metric(clfKNN2, X_test, y_test, metric=accuracy_score)}\")"
   ]
  },
  {
   "cell_type": "markdown",
   "metadata": {},
   "source": [
    "Your new test F1 should now be ~ 0.68 and the accuracy ~ 0.70."
   ]
  },
  {
   "cell_type": "markdown",
   "metadata": {},
   "source": [
    "## *Part 6: (BONUS) Repeat Part 5 with sklearn Implementation of RandomForest Classifier"
   ]
  },
  {
   "cell_type": "markdown",
   "metadata": {},
   "source": [
    "Even when optimizing the _k_NN Classifier, the results are still not the very best (like no one ever was...^^). In this case, the model simply might not be able to find good rules to separate the data or the generalization did not go well. In this case, another approach is always recommended. We will not go into a lot of detail in our lecture, but there are tons of other classification models and methods out there. One of them, the RandomForest Classifier is always a good choice whenever there is a skew in the dataset or training has to be quick (even though it will be way slower than _k_NN on our dataset).\n",
    "<br><br>Below, you can find the code for a RandomForest Classifier. Feel free to play around with it and change its parameters. To get more information you can execute the help (?) command:"
   ]
  },
  {
   "cell_type": "code",
   "execution_count": 46,
   "metadata": {},
   "outputs": [],
   "source": [
    "from sklearn.ensemble import RandomForestClassifier\n",
    "\n",
    "?RandomForestClassifier"
   ]
  },
  {
   "cell_type": "code",
   "execution_count": 49,
   "metadata": {
    "scrolled": true
   },
   "outputs": [
    {
     "data": {
      "application/vnd.jupyter.widget-view+json": {
       "model_id": "91e155defeac4098941638a89ce613eb",
       "version_major": 2,
       "version_minor": 0
      },
      "text/plain": [
       "HBox(children=(HTML(value=''), FloatProgress(value=0.0, max=99.0), HTML(value='')))"
      ]
     },
     "metadata": {},
     "output_type": "display_data"
    },
    {
     "name": "stdout",
     "output_type": "stream",
     "text": [
      "\n",
      "{'n_estimators': 14, 'criterion': 0, 'max_depth': 11}\n",
      "0.9130991230991231\n",
      "f1_score: 0.9029304029304029 (clfKNN)\n",
      "accuracy_score: 0.9166666666666666 (clfKNN)\n"
     ]
    }
   ],
   "source": [
    "from tqdm.notebook import tqdm\n",
    "\n",
    "runs=100\n",
    "\n",
    "results = []\n",
    "\n",
    "n_fold = 10\n",
    "shuffle = True\n",
    "\n",
    "best_value = 0\n",
    "best_hyperparam = 0\n",
    "best_model = None\n",
    "\n",
    "for run in tqdm(range(0,runs-1)):\n",
    "    hyperparams = {\n",
    "        'n_estimators': random.randint(10,50), \n",
    "        'criterion': random.randint(0,1),\n",
    "        'max_depth': random.randint(5,15)\n",
    "    }    \n",
    "    \n",
    "    clfRF = RandomForestClassifier(\n",
    "        n_estimators=hyperparams['n_estimators'], \n",
    "        criterion=['gini','entropy'][hyperparams['criterion']],\n",
    "        max_depth=hyperparams['max_depth'],  \n",
    "        random_state=rnd_seed)\n",
    "    \n",
    "    validation_metric = train_clf_with_cross_valid(clfRF, n_fold, preprocessing.normalize(X_train), y_train, clf_name='RF', shuffle=shuffle, metric=f1_score, args={'average':'macro'})\n",
    "    results.append({**hyperparams, 'validation_metric_val': validation_metric, 'model': clfRF})\n",
    "    \n",
    "    if validation_metric > best_value:\n",
    "        best_value = validation_metric\n",
    "        best_hyperparams = hyperparams\n",
    "        best_model = clfRF\n",
    "    \n",
    "#visualize_hyperparams(results, test_metric_col='validation_metric_val')\n",
    "\n",
    "print(best_hyperparams)\n",
    "print(best_value)\n",
    "\n",
    "print(f\"{get_metric(best_model, preprocessing.normalize(X_test), y_test, metric=f1_score, args={'average':'macro'})}\")\n",
    "print(f\"{get_metric(best_model, preprocessing.normalize(X_test), y_test, metric=accuracy_score)}\")"
   ]
  }
 ],
 "metadata": {
  "kernelspec": {
   "display_name": "Python 3",
   "language": "python",
   "name": "python3"
  },
  "language_info": {
   "codemirror_mode": {
    "name": "ipython",
    "version": 3
   },
   "file_extension": ".py",
   "mimetype": "text/x-python",
   "name": "python",
   "nbconvert_exporter": "python",
   "pygments_lexer": "ipython3",
   "version": "3.7.3"
  }
 },
 "nbformat": 4,
 "nbformat_minor": 4
}
