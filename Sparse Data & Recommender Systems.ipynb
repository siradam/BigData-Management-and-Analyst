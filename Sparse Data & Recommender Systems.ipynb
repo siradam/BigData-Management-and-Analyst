{
 "cells": [
  {
   "cell_type": "markdown",
   "metadata": {},
   "source": [
    "# Assignment 3 - Recommender Systems\n",
    "\n",
    "The main idea to this assignment is learning and applying the concept of recommender systems. Imagine you are part of a company selling video games. You have users and you want to recommend games for these users to buy and play. For this purpose we provide to you with a dataset based on the Steam Game Store."
   ]
  },
  {
   "cell_type": "code",
   "execution_count": 756,
   "metadata": {},
   "outputs": [],
   "source": [
    "# First some imports, as always\n",
    "import torch\n",
    "import pandas as pd\n",
    "import numpy as np\n",
    "from sklearn.metrics import pairwise_distances\n",
    "from sklearn.decomposition import TruncatedSVD"
   ]
  },
  {
   "cell_type": "code",
   "execution_count": 757,
   "metadata": {},
   "outputs": [],
   "source": [
    "# Here we import two datasets, that we will later combine into one\n",
    "\n",
    "steam_user_data = pd.read_csv('steam-200k.csv')\n",
    "steam_description_data = pd.read_csv('steam_games.csv')"
   ]
  },
  {
   "cell_type": "markdown",
   "metadata": {},
   "source": [
    "Ok let's take a look at our **steam_user_data** dataset. Each row contains a game (**game**) that was bought and/or played (**action**) by a user (**userid**). For a game that was played we addtionally know how long the user played the game (**hours**). Generally for each entry corresponding to a bought game, we also have an entry with the *play* action, but a user could buy a game, but never play it. Then we have an entry with the *purchase* action, but not an entry with a *play*. The hour field for a *purchase* entry is always 1."
   ]
  },
  {
   "cell_type": "code",
   "execution_count": 758,
   "metadata": {},
   "outputs": [
    {
     "data": {
      "text/html": [
       "<div>\n",
       "<style scoped>\n",
       "    .dataframe tbody tr th:only-of-type {\n",
       "        vertical-align: middle;\n",
       "    }\n",
       "\n",
       "    .dataframe tbody tr th {\n",
       "        vertical-align: top;\n",
       "    }\n",
       "\n",
       "    .dataframe thead th {\n",
       "        text-align: right;\n",
       "    }\n",
       "</style>\n",
       "<table border=\"1\" class=\"dataframe\">\n",
       "  <thead>\n",
       "    <tr style=\"text-align: right;\">\n",
       "      <th></th>\n",
       "      <th>userid</th>\n",
       "      <th>game</th>\n",
       "      <th>action</th>\n",
       "      <th>hours</th>\n",
       "      <th>other</th>\n",
       "    </tr>\n",
       "  </thead>\n",
       "  <tbody>\n",
       "    <tr>\n",
       "      <th>0</th>\n",
       "      <td>151603712</td>\n",
       "      <td>The Elder Scrolls V Skyrim</td>\n",
       "      <td>purchase</td>\n",
       "      <td>1.0</td>\n",
       "      <td>0</td>\n",
       "    </tr>\n",
       "    <tr>\n",
       "      <th>1</th>\n",
       "      <td>151603712</td>\n",
       "      <td>The Elder Scrolls V Skyrim</td>\n",
       "      <td>play</td>\n",
       "      <td>273.0</td>\n",
       "      <td>0</td>\n",
       "    </tr>\n",
       "    <tr>\n",
       "      <th>2</th>\n",
       "      <td>151603712</td>\n",
       "      <td>Fallout 4</td>\n",
       "      <td>purchase</td>\n",
       "      <td>1.0</td>\n",
       "      <td>0</td>\n",
       "    </tr>\n",
       "    <tr>\n",
       "      <th>3</th>\n",
       "      <td>151603712</td>\n",
       "      <td>Fallout 4</td>\n",
       "      <td>play</td>\n",
       "      <td>87.0</td>\n",
       "      <td>0</td>\n",
       "    </tr>\n",
       "    <tr>\n",
       "      <th>4</th>\n",
       "      <td>151603712</td>\n",
       "      <td>Spore</td>\n",
       "      <td>purchase</td>\n",
       "      <td>1.0</td>\n",
       "      <td>0</td>\n",
       "    </tr>\n",
       "  </tbody>\n",
       "</table>\n",
       "</div>"
      ],
      "text/plain": [
       "      userid                        game    action  hours  other\n",
       "0  151603712  The Elder Scrolls V Skyrim  purchase    1.0      0\n",
       "1  151603712  The Elder Scrolls V Skyrim      play  273.0      0\n",
       "2  151603712                   Fallout 4  purchase    1.0      0\n",
       "3  151603712                   Fallout 4      play   87.0      0\n",
       "4  151603712                       Spore  purchase    1.0      0"
      ]
     },
     "execution_count": 758,
     "metadata": {},
     "output_type": "execute_result"
    }
   ],
   "source": [
    "steam_user_data.head(5)"
   ]
  },
  {
   "cell_type": "markdown",
   "metadata": {},
   "source": [
    "We additionally have the **steam_description_data** set, which contains addtional information about each game. We will only need a few features from this. For example the **genre** of the game or the user-generated **popular_tags**."
   ]
  },
  {
   "cell_type": "code",
   "execution_count": 759,
   "metadata": {},
   "outputs": [
    {
     "data": {
      "text/html": [
       "<div>\n",
       "<style scoped>\n",
       "    .dataframe tbody tr th:only-of-type {\n",
       "        vertical-align: middle;\n",
       "    }\n",
       "\n",
       "    .dataframe tbody tr th {\n",
       "        vertical-align: top;\n",
       "    }\n",
       "\n",
       "    .dataframe thead th {\n",
       "        text-align: right;\n",
       "    }\n",
       "</style>\n",
       "<table border=\"1\" class=\"dataframe\">\n",
       "  <thead>\n",
       "    <tr style=\"text-align: right;\">\n",
       "      <th></th>\n",
       "      <th>game</th>\n",
       "      <th>genre</th>\n",
       "      <th>game_details</th>\n",
       "      <th>popular_tags</th>\n",
       "      <th>game_description</th>\n",
       "    </tr>\n",
       "  </thead>\n",
       "  <tbody>\n",
       "    <tr>\n",
       "      <th>0</th>\n",
       "      <td>DOOM</td>\n",
       "      <td>Action</td>\n",
       "      <td>Single-player,Multi-player,Co-op,Steam Achieve...</td>\n",
       "      <td>FPS,Gore,Action,Demons,Shooter,First-Person,Gr...</td>\n",
       "      <td>About This Game Developed by id software, the...</td>\n",
       "    </tr>\n",
       "    <tr>\n",
       "      <th>1</th>\n",
       "      <td>PLAYERUNKNOWN'S BATTLEGROUNDS</td>\n",
       "      <td>Action,Adventure,Massively Multiplayer</td>\n",
       "      <td>Multi-player,Online Multi-Player,Stats</td>\n",
       "      <td>Survival,Shooter,Multiplayer,Battle Royale,PvP...</td>\n",
       "      <td>About This Game  PLAYERUNKNOWN'S BATTLEGROUND...</td>\n",
       "    </tr>\n",
       "    <tr>\n",
       "      <th>2</th>\n",
       "      <td>BATTLETECH</td>\n",
       "      <td>Action,Adventure,Strategy</td>\n",
       "      <td>Single-player,Multi-player,Online Multi-Player...</td>\n",
       "      <td>Mechs,Strategy,Turn-Based,Turn-Based Tactics,S...</td>\n",
       "      <td>About This Game  From original BATTLETECH/Mec...</td>\n",
       "    </tr>\n",
       "  </tbody>\n",
       "</table>\n",
       "</div>"
      ],
      "text/plain": [
       "                            game                                   genre  \\\n",
       "0                           DOOM                                  Action   \n",
       "1  PLAYERUNKNOWN'S BATTLEGROUNDS  Action,Adventure,Massively Multiplayer   \n",
       "2                     BATTLETECH               Action,Adventure,Strategy   \n",
       "\n",
       "                                        game_details  \\\n",
       "0  Single-player,Multi-player,Co-op,Steam Achieve...   \n",
       "1             Multi-player,Online Multi-Player,Stats   \n",
       "2  Single-player,Multi-player,Online Multi-Player...   \n",
       "\n",
       "                                        popular_tags  \\\n",
       "0  FPS,Gore,Action,Demons,Shooter,First-Person,Gr...   \n",
       "1  Survival,Shooter,Multiplayer,Battle Royale,PvP...   \n",
       "2  Mechs,Strategy,Turn-Based,Turn-Based Tactics,S...   \n",
       "\n",
       "                                    game_description  \n",
       "0   About This Game Developed by id software, the...  \n",
       "1   About This Game  PLAYERUNKNOWN'S BATTLEGROUND...  \n",
       "2   About This Game  From original BATTLETECH/Mec...  "
      ]
     },
     "execution_count": 759,
     "metadata": {},
     "output_type": "execute_result"
    }
   ],
   "source": [
    "small_steam_description_data = steam_description_data[['game', 'genre', 'game_details', 'popular_tags', 'game_description']]\n",
    "small_steam_description_data.head(3)"
   ]
  },
  {
   "cell_type": "markdown",
   "metadata": {},
   "source": [
    "We join both datasets on the **game** attribute using pandas merge function."
   ]
  },
  {
   "cell_type": "code",
   "execution_count": 760,
   "metadata": {},
   "outputs": [
    {
     "data": {
      "text/html": [
       "<div>\n",
       "<style scoped>\n",
       "    .dataframe tbody tr th:only-of-type {\n",
       "        vertical-align: middle;\n",
       "    }\n",
       "\n",
       "    .dataframe tbody tr th {\n",
       "        vertical-align: top;\n",
       "    }\n",
       "\n",
       "    .dataframe thead th {\n",
       "        text-align: right;\n",
       "    }\n",
       "</style>\n",
       "<table border=\"1\" class=\"dataframe\">\n",
       "  <thead>\n",
       "    <tr style=\"text-align: right;\">\n",
       "      <th></th>\n",
       "      <th>userid</th>\n",
       "      <th>game</th>\n",
       "      <th>action</th>\n",
       "      <th>hours</th>\n",
       "      <th>other</th>\n",
       "      <th>genre</th>\n",
       "      <th>game_details</th>\n",
       "      <th>popular_tags</th>\n",
       "      <th>game_description</th>\n",
       "    </tr>\n",
       "  </thead>\n",
       "  <tbody>\n",
       "    <tr>\n",
       "      <th>0</th>\n",
       "      <td>151603712</td>\n",
       "      <td>Fallout 4</td>\n",
       "      <td>purchase</td>\n",
       "      <td>1.0</td>\n",
       "      <td>0</td>\n",
       "      <td>RPG</td>\n",
       "      <td>Single-player,Steam Achievements,Full controll...</td>\n",
       "      <td>Open World,Post-apocalyptic,Exploration,Single...</td>\n",
       "      <td>About This Game Bethesda Game Studios, the aw...</td>\n",
       "    </tr>\n",
       "    <tr>\n",
       "      <th>1</th>\n",
       "      <td>151603712</td>\n",
       "      <td>Fallout 4</td>\n",
       "      <td>play</td>\n",
       "      <td>87.0</td>\n",
       "      <td>0</td>\n",
       "      <td>RPG</td>\n",
       "      <td>Single-player,Steam Achievements,Full controll...</td>\n",
       "      <td>Open World,Post-apocalyptic,Exploration,Single...</td>\n",
       "      <td>About This Game Bethesda Game Studios, the aw...</td>\n",
       "    </tr>\n",
       "    <tr>\n",
       "      <th>2</th>\n",
       "      <td>87445402</td>\n",
       "      <td>Fallout 4</td>\n",
       "      <td>purchase</td>\n",
       "      <td>1.0</td>\n",
       "      <td>0</td>\n",
       "      <td>RPG</td>\n",
       "      <td>Single-player,Steam Achievements,Full controll...</td>\n",
       "      <td>Open World,Post-apocalyptic,Exploration,Single...</td>\n",
       "      <td>About This Game Bethesda Game Studios, the aw...</td>\n",
       "    </tr>\n",
       "  </tbody>\n",
       "</table>\n",
       "</div>"
      ],
      "text/plain": [
       "      userid       game    action  hours  other genre  \\\n",
       "0  151603712  Fallout 4  purchase    1.0      0   RPG   \n",
       "1  151603712  Fallout 4      play   87.0      0   RPG   \n",
       "2   87445402  Fallout 4  purchase    1.0      0   RPG   \n",
       "\n",
       "                                        game_details  \\\n",
       "0  Single-player,Steam Achievements,Full controll...   \n",
       "1  Single-player,Steam Achievements,Full controll...   \n",
       "2  Single-player,Steam Achievements,Full controll...   \n",
       "\n",
       "                                        popular_tags  \\\n",
       "0  Open World,Post-apocalyptic,Exploration,Single...   \n",
       "1  Open World,Post-apocalyptic,Exploration,Single...   \n",
       "2  Open World,Post-apocalyptic,Exploration,Single...   \n",
       "\n",
       "                                    game_description  \n",
       "0   About This Game Bethesda Game Studios, the aw...  \n",
       "1   About This Game Bethesda Game Studios, the aw...  \n",
       "2   About This Game Bethesda Game Studios, the aw...  "
      ]
     },
     "execution_count": 760,
     "metadata": {},
     "output_type": "execute_result"
    }
   ],
   "source": [
    "steam_data = steam_user_data.merge(small_steam_description_data, on='game')\n",
    "steam_data.head(3)"
   ]
  },
  {
   "cell_type": "markdown",
   "metadata": {},
   "source": [
    "## 1. Trivial Recommendations"
   ]
  },
  {
   "cell_type": "markdown",
   "metadata": {},
   "source": [
    "So now we want to use this dataset to find out which one a users should play next. The first idea you might have is to just recommend the most popular titles. Now try to find the 10 most bought games according to our dataset. \n",
    "\n",
    "*Hint: Use the pandas groupby function*"
   ]
  },
  {
   "cell_type": "markdown",
   "metadata": {},
   "source": [
    "*TODO: List the 10 most purchased games*"
   ]
  },
  {
   "cell_type": "code",
   "execution_count": 761,
   "metadata": {},
   "outputs": [
    {
     "data": {
      "text/plain": [
       "game\n",
       "Dota 2               4841\n",
       "Team Fortress 2      2323\n",
       "Unturned             1563\n",
       "Left 4 Dead 2         951\n",
       "Counter-Strike        856\n",
       "Warframe              847\n",
       "Garry's Mod           731\n",
       "Robocraft             689\n",
       "Heroes & Generals     658\n",
       "Half-Life 2           639\n",
       "Name: action, dtype: int64"
      ]
     },
     "execution_count": 761,
     "metadata": {},
     "output_type": "execute_result"
    }
   ],
   "source": [
    "purchased = steam_data[steam_data['action'] == 'purchase']\n",
    "sorted_purchased = purchased.groupby('game').count()['action'].sort_values(ascending=False)[:10]\n",
    "sorted_purchased"
   ]
  },
  {
   "cell_type": "markdown",
   "metadata": {},
   "source": [
    "Now these might be the most bought games, but not the most played games. There might be games that users buy, but not really play. Also games with a high avg playing time might mean, that users tend to like the game. Now try to find the 10 games with the longest avg playtime per user.\n",
    "\n",
    "*Hint: Don't forget to select only the entries that contain played games*"
   ]
  },
  {
   "cell_type": "markdown",
   "metadata": {},
   "source": [
    "*TODO: List the 10 games with the highest avg hours played*"
   ]
  },
  {
   "cell_type": "code",
   "execution_count": 762,
   "metadata": {},
   "outputs": [
    {
     "data": {
      "text/plain": [
       "game\n",
       "Eastside Hockey Manager     1295.000000\n",
       "Perpetuum                    400.975000\n",
       "Freaking Meatbags            331.000000\n",
       "Counter-Strike               236.375176\n",
       "Avernum 4                    228.000000\n",
       "Dota 2                       202.785499\n",
       "Europa Universalis IV        195.180000\n",
       "Cultures - Northland         194.000000\n",
       "Uncharted Waters Online      181.000000\n",
       "Pro Cycling Manager 2014     177.500000\n",
       "Name: hours, dtype: float64"
      ]
     },
     "execution_count": 762,
     "metadata": {},
     "output_type": "execute_result"
    }
   ],
   "source": [
    "played = steam_data[steam_data['action'] == 'play']\n",
    "sorted_by_playtime = played.groupby('game')['hours'].mean().sort_values(ascending=False)[:10]\n",
    "sorted_by_playtime"
   ]
  },
  {
   "cell_type": "markdown",
   "metadata": {},
   "source": [
    "This might actually have a slight problem. For example, WTF is 'Eastside Hockey Manager' and why does it have an average playing time of over 1000 hours. In order to migitage that some games might only be bought by very few users, that then play it a long time, let's weight the avg playtime by the percentage of users that play this game."
   ]
  },
  {
   "cell_type": "markdown",
   "metadata": {},
   "source": [
    "*TODO: Multiply each avg hours with the ratio of users playing the game and users overall!*\n"
   ]
  },
  {
   "cell_type": "code",
   "execution_count": 763,
   "metadata": {},
   "outputs": [
    {
     "data": {
      "text/plain": [
       "game\n",
       "Dota 2                106.082191\n",
       "Team Fortress 2        18.767376\n",
       "Counter-Strike         14.508440\n",
       "Garry's Mod             5.373384\n",
       "Left 4 Dead 2           3.630506\n",
       "Terraria                3.236633\n",
       "Warframe                2.925719\n",
       "Arma 3                  2.599492\n",
       "Grand Theft Auto V      2.480733\n",
       "Borderlands 2           2.449525\n",
       "Name: hours, dtype: float64"
      ]
     },
     "execution_count": 763,
     "metadata": {},
     "output_type": "execute_result"
    }
   ],
   "source": [
    "played = steam_data[steam_data['action'] == 'play']\n",
    "(played.groupby('game')['hours'].mean() * (played.groupby('game')['hours'].count() / len(played['userid'].unique()))).sort_values(ascending=False)[:10]"
   ]
  },
  {
   "cell_type": "markdown",
   "metadata": {},
   "source": [
    "Now that should look like a pretty decent list of popular games on Steam from 4 years ago, when this dataset was collected. These lists might seem like a good starting point for a new user, but for old users we want to recommend games tat fit a user's preferences. So the first thing we can do is to look at the obvious features of the games that a user likes, e.g. genre, tags etc. and try to find similiar games with similiar features."
   ]
  },
  {
   "cell_type": "markdown",
   "metadata": {},
   "source": [
    "## 2. Content-Based Recommendation"
   ]
  },
  {
   "cell_type": "markdown",
   "metadata": {},
   "source": [
    "So let us imagine we have a user that really loves the rougelite rythm dungeon crawler *Crypt of the NecroDancer* (https://store.steampowered.com/app/247080/Crypt_of_the_NecroDancer/) Your task is now (in increasingly complicated and mathy ways) to find similiar games to it. We will begin by using the Jaccard Similarity measure and the **popular_tags** feature. The user generated tags should tell us alot about what the content of the games are and just by comparing which games have simliar sets of tags should already give us a good collection of simliar games."
   ]
  },
  {
   "cell_type": "markdown",
   "metadata": {},
   "source": [
    "*TODO: Group the steam_data by game and select only the **popular_tags** for each game*"
   ]
  },
  {
   "cell_type": "code",
   "execution_count": 764,
   "metadata": {},
   "outputs": [],
   "source": [
    "tag_data = steam_data.groupby('game').first()['popular_tags']"
   ]
  },
  {
   "cell_type": "markdown",
   "metadata": {},
   "source": [
    "*Encode the genre feature with One-Hot-Encoding by using panda's str.get_dummies(seperator) (https://pandas.pydata.org/pandas-docs/stable/reference/api/pandas.Series.str.get_dummies.html) function*\n"
   ]
  },
  {
   "cell_type": "code",
   "execution_count": 765,
   "metadata": {},
   "outputs": [
    {
     "data": {
      "text/html": [
       "<div>\n",
       "<style scoped>\n",
       "    .dataframe tbody tr th:only-of-type {\n",
       "        vertical-align: middle;\n",
       "    }\n",
       "\n",
       "    .dataframe tbody tr th {\n",
       "        vertical-align: top;\n",
       "    }\n",
       "\n",
       "    .dataframe thead th {\n",
       "        text-align: right;\n",
       "    }\n",
       "</style>\n",
       "<table border=\"1\" class=\"dataframe\">\n",
       "  <thead>\n",
       "    <tr style=\"text-align: right;\">\n",
       "      <th></th>\n",
       "      <th>1980s</th>\n",
       "      <th>1990's</th>\n",
       "      <th>2.5D</th>\n",
       "      <th>2D</th>\n",
       "      <th>2D Fighter</th>\n",
       "      <th>3D</th>\n",
       "      <th>3D Platformer</th>\n",
       "      <th>3D Vision</th>\n",
       "      <th>4 Player Local</th>\n",
       "      <th>4X</th>\n",
       "      <th>...</th>\n",
       "      <th>Warhammer 40K</th>\n",
       "      <th>Web Publishing</th>\n",
       "      <th>Werewolves</th>\n",
       "      <th>Western</th>\n",
       "      <th>Word Game</th>\n",
       "      <th>World War I</th>\n",
       "      <th>World War II</th>\n",
       "      <th>Wrestling</th>\n",
       "      <th>Zombies</th>\n",
       "      <th>e-sports</th>\n",
       "    </tr>\n",
       "    <tr>\n",
       "      <th>game</th>\n",
       "      <th></th>\n",
       "      <th></th>\n",
       "      <th></th>\n",
       "      <th></th>\n",
       "      <th></th>\n",
       "      <th></th>\n",
       "      <th></th>\n",
       "      <th></th>\n",
       "      <th></th>\n",
       "      <th></th>\n",
       "      <th></th>\n",
       "      <th></th>\n",
       "      <th></th>\n",
       "      <th></th>\n",
       "      <th></th>\n",
       "      <th></th>\n",
       "      <th></th>\n",
       "      <th></th>\n",
       "      <th></th>\n",
       "      <th></th>\n",
       "      <th></th>\n",
       "    </tr>\n",
       "  </thead>\n",
       "  <tbody>\n",
       "    <tr>\n",
       "      <th>1... 2... 3... KICK IT! (Drop That Beat Like an Ugly Baby)</th>\n",
       "      <td>0</td>\n",
       "      <td>0</td>\n",
       "      <td>0</td>\n",
       "      <td>0</td>\n",
       "      <td>0</td>\n",
       "      <td>0</td>\n",
       "      <td>0</td>\n",
       "      <td>0</td>\n",
       "      <td>0</td>\n",
       "      <td>0</td>\n",
       "      <td>...</td>\n",
       "      <td>0</td>\n",
       "      <td>0</td>\n",
       "      <td>0</td>\n",
       "      <td>0</td>\n",
       "      <td>0</td>\n",
       "      <td>0</td>\n",
       "      <td>0</td>\n",
       "      <td>0</td>\n",
       "      <td>0</td>\n",
       "      <td>0</td>\n",
       "    </tr>\n",
       "    <tr>\n",
       "      <th>10 Second Ninja</th>\n",
       "      <td>0</td>\n",
       "      <td>0</td>\n",
       "      <td>0</td>\n",
       "      <td>1</td>\n",
       "      <td>0</td>\n",
       "      <td>0</td>\n",
       "      <td>0</td>\n",
       "      <td>0</td>\n",
       "      <td>0</td>\n",
       "      <td>0</td>\n",
       "      <td>...</td>\n",
       "      <td>0</td>\n",
       "      <td>0</td>\n",
       "      <td>0</td>\n",
       "      <td>0</td>\n",
       "      <td>0</td>\n",
       "      <td>0</td>\n",
       "      <td>0</td>\n",
       "      <td>0</td>\n",
       "      <td>0</td>\n",
       "      <td>0</td>\n",
       "    </tr>\n",
       "    <tr>\n",
       "      <th>10,000,000</th>\n",
       "      <td>0</td>\n",
       "      <td>0</td>\n",
       "      <td>0</td>\n",
       "      <td>1</td>\n",
       "      <td>0</td>\n",
       "      <td>0</td>\n",
       "      <td>0</td>\n",
       "      <td>0</td>\n",
       "      <td>0</td>\n",
       "      <td>0</td>\n",
       "      <td>...</td>\n",
       "      <td>0</td>\n",
       "      <td>0</td>\n",
       "      <td>0</td>\n",
       "      <td>0</td>\n",
       "      <td>0</td>\n",
       "      <td>0</td>\n",
       "      <td>0</td>\n",
       "      <td>0</td>\n",
       "      <td>0</td>\n",
       "      <td>0</td>\n",
       "    </tr>\n",
       "    <tr>\n",
       "      <th>100% Orange Juice</th>\n",
       "      <td>0</td>\n",
       "      <td>0</td>\n",
       "      <td>0</td>\n",
       "      <td>1</td>\n",
       "      <td>0</td>\n",
       "      <td>0</td>\n",
       "      <td>0</td>\n",
       "      <td>0</td>\n",
       "      <td>0</td>\n",
       "      <td>0</td>\n",
       "      <td>...</td>\n",
       "      <td>0</td>\n",
       "      <td>0</td>\n",
       "      <td>0</td>\n",
       "      <td>0</td>\n",
       "      <td>0</td>\n",
       "      <td>0</td>\n",
       "      <td>0</td>\n",
       "      <td>0</td>\n",
       "      <td>0</td>\n",
       "      <td>0</td>\n",
       "    </tr>\n",
       "    <tr>\n",
       "      <th>140</th>\n",
       "      <td>0</td>\n",
       "      <td>0</td>\n",
       "      <td>0</td>\n",
       "      <td>1</td>\n",
       "      <td>0</td>\n",
       "      <td>0</td>\n",
       "      <td>0</td>\n",
       "      <td>0</td>\n",
       "      <td>0</td>\n",
       "      <td>0</td>\n",
       "      <td>...</td>\n",
       "      <td>0</td>\n",
       "      <td>0</td>\n",
       "      <td>0</td>\n",
       "      <td>0</td>\n",
       "      <td>0</td>\n",
       "      <td>0</td>\n",
       "      <td>0</td>\n",
       "      <td>0</td>\n",
       "      <td>0</td>\n",
       "      <td>0</td>\n",
       "    </tr>\n",
       "  </tbody>\n",
       "</table>\n",
       "<p>5 rows × 356 columns</p>\n",
       "</div>"
      ],
      "text/plain": [
       "                                                    1980s  1990's  2.5D  2D  \\\n",
       "game                                                                          \n",
       "1... 2... 3... KICK IT! (Drop That Beat Like an...      0       0     0   0   \n",
       "10 Second Ninja                                         0       0     0   1   \n",
       "10,000,000                                              0       0     0   1   \n",
       "100% Orange Juice                                       0       0     0   1   \n",
       "140                                                     0       0     0   1   \n",
       "\n",
       "                                                    2D Fighter  3D  \\\n",
       "game                                                                 \n",
       "1... 2... 3... KICK IT! (Drop That Beat Like an...           0   0   \n",
       "10 Second Ninja                                              0   0   \n",
       "10,000,000                                                   0   0   \n",
       "100% Orange Juice                                            0   0   \n",
       "140                                                          0   0   \n",
       "\n",
       "                                                    3D Platformer  3D Vision  \\\n",
       "game                                                                           \n",
       "1... 2... 3... KICK IT! (Drop That Beat Like an...              0          0   \n",
       "10 Second Ninja                                                 0          0   \n",
       "10,000,000                                                      0          0   \n",
       "100% Orange Juice                                               0          0   \n",
       "140                                                             0          0   \n",
       "\n",
       "                                                    4 Player Local  4X  ...  \\\n",
       "game                                                                    ...   \n",
       "1... 2... 3... KICK IT! (Drop That Beat Like an...               0   0  ...   \n",
       "10 Second Ninja                                                  0   0  ...   \n",
       "10,000,000                                                       0   0  ...   \n",
       "100% Orange Juice                                                0   0  ...   \n",
       "140                                                              0   0  ...   \n",
       "\n",
       "                                                    Warhammer 40K  \\\n",
       "game                                                                \n",
       "1... 2... 3... KICK IT! (Drop That Beat Like an...              0   \n",
       "10 Second Ninja                                                 0   \n",
       "10,000,000                                                      0   \n",
       "100% Orange Juice                                               0   \n",
       "140                                                             0   \n",
       "\n",
       "                                                    Web Publishing  \\\n",
       "game                                                                 \n",
       "1... 2... 3... KICK IT! (Drop That Beat Like an...               0   \n",
       "10 Second Ninja                                                  0   \n",
       "10,000,000                                                       0   \n",
       "100% Orange Juice                                                0   \n",
       "140                                                              0   \n",
       "\n",
       "                                                    Werewolves  Western  \\\n",
       "game                                                                      \n",
       "1... 2... 3... KICK IT! (Drop That Beat Like an...           0        0   \n",
       "10 Second Ninja                                              0        0   \n",
       "10,000,000                                                   0        0   \n",
       "100% Orange Juice                                            0        0   \n",
       "140                                                          0        0   \n",
       "\n",
       "                                                    Word Game  World War I  \\\n",
       "game                                                                         \n",
       "1... 2... 3... KICK IT! (Drop That Beat Like an...          0            0   \n",
       "10 Second Ninja                                             0            0   \n",
       "10,000,000                                                  0            0   \n",
       "100% Orange Juice                                           0            0   \n",
       "140                                                         0            0   \n",
       "\n",
       "                                                    World War II  Wrestling  \\\n",
       "game                                                                          \n",
       "1... 2... 3... KICK IT! (Drop That Beat Like an...             0          0   \n",
       "10 Second Ninja                                                0          0   \n",
       "10,000,000                                                     0          0   \n",
       "100% Orange Juice                                              0          0   \n",
       "140                                                            0          0   \n",
       "\n",
       "                                                    Zombies  e-sports  \n",
       "game                                                                   \n",
       "1... 2... 3... KICK IT! (Drop That Beat Like an...        0         0  \n",
       "10 Second Ninja                                           0         0  \n",
       "10,000,000                                                0         0  \n",
       "100% Orange Juice                                         0         0  \n",
       "140                                                       0         0  \n",
       "\n",
       "[5 rows x 356 columns]"
      ]
     },
     "execution_count": 765,
     "metadata": {},
     "output_type": "execute_result"
    }
   ],
   "source": [
    "tag_dummies = tag_data.str.get_dummies(sep=',')\n",
    "tag_dummies.head(5)"
   ]
  },
  {
   "cell_type": "markdown",
   "metadata": {},
   "source": [
    "*TODO: Calculate the pairwise jaccard distances between each game using our genre dummies using sklearn's pairwaise distance function*\n",
    "\n",
    "*Hint: When dealing with binary data the jaccard distance (1 - jaccard simliarity) is actually equivalent to the hamming distance* "
   ]
  },
  {
   "cell_type": "code",
   "execution_count": 766,
   "metadata": {},
   "outputs": [
    {
     "data": {
      "text/plain": [
       "array([[0.        , 0.03370787, 0.06179775, ..., 0.06741573, 0.03932584,\n",
       "        0.02808989],\n",
       "       [0.03370787, 0.        , 0.05617978, ..., 0.06741573, 0.04494382,\n",
       "        0.03370787],\n",
       "       [0.06179775, 0.05617978, 0.        , ..., 0.09550562, 0.06179775,\n",
       "        0.0505618 ],\n",
       "       ...,\n",
       "       [0.06741573, 0.06741573, 0.09550562, ..., 0.        , 0.07865169,\n",
       "        0.06179775],\n",
       "       [0.03932584, 0.04494382, 0.06179775, ..., 0.07865169, 0.        ,\n",
       "        0.03932584],\n",
       "       [0.02808989, 0.03370787, 0.0505618 , ..., 0.06179775, 0.03932584,\n",
       "        0.        ]])"
      ]
     },
     "execution_count": 766,
     "metadata": {},
     "output_type": "execute_result"
    }
   ],
   "source": [
    "# Calculate the pairwise jaccard distances between each game using our genre dummies\n",
    "\n",
    "jac_dist = pairwise_distances(tag_dummies.values, metric = \"hamming\")\n",
    "jac_dist"
   ]
  },
  {
   "cell_type": "markdown",
   "metadata": {},
   "source": [
    "*TODO: Now write a funtion that takes an arbitrary distance matrix, a list of games that are possible, the game title we are looking for and a value k and returns the k closest games according to the distance matrix*\n",
    "\n",
    "*Hint: Try using numpy's argsort function and don't forget to not count the queried game itself*"
   ]
  },
  {
   "cell_type": "code",
   "execution_count": 767,
   "metadata": {},
   "outputs": [],
   "source": [
    "def getTopKSimiliarGames(distances: np.array, games: list, game: str, k: int):\n",
    "    game_index = games.index(game)\n",
    "    distances_to_game = distances[game_index]\n",
    "    topk_indeces = np.argsort(distances_to_game)[1:k+1]\n",
    "    return [(games[i], distances_to_game[i]) for i in topk_indeces]"
   ]
  },
  {
   "cell_type": "markdown",
   "metadata": {},
   "source": [
    "Now let's use your function to find the top-10 most simliar games to 'Crypt of the NecroDancer'"
   ]
  },
  {
   "cell_type": "code",
   "execution_count": 768,
   "metadata": {},
   "outputs": [
    {
     "data": {
      "text/plain": [
       "[('Diehard Dungeon', 0.02247191011235955),\n",
       " (\"A Wizard's Lizard\", 0.025280898876404494),\n",
       " ('Deep Dungeons of Doom', 0.03089887640449438),\n",
       " ('Dungeon Siege III', 0.033707865168539325),\n",
       " ('bit Dungeon II', 0.033707865168539325),\n",
       " ('Legend of Dungeon', 0.033707865168539325),\n",
       " ('Crawl', 0.033707865168539325),\n",
       " ('Castle In The Darkness', 0.033707865168539325),\n",
       " ('Tiny Barbarian DX', 0.033707865168539325),\n",
       " ('Ascendant', 0.03651685393258427)]"
      ]
     },
     "execution_count": 768,
     "metadata": {},
     "output_type": "execute_result"
    }
   ],
   "source": [
    "getTopKSimiliarGames(jac_dist, list(tag_data.index), 'Crypt of the NecroDancer', 10)"
   ]
  },
  {
   "cell_type": "markdown",
   "metadata": {},
   "source": [
    "Now that already looks like a decent list of recommendations for someone who likes Dungeon Crawlers. But if we look at a user we actually know more than just one game they like. We need a way to combine the features of multiple games into a single query, so that we find the games that are most simliar to the ones the user likes.\n",
    "\n",
    "We can combine the recommendations for several games (the ones a user played) by using TF/IDF and Cosine Distance. TF is the term frequency, which in this case means how often a tag is included in the games that a single user plays and it is compared with the IDF. IDF is the Indirect Document Frequency and in our case this is the count of all tag over all documents divided by the occurance of a single tag in all documents."
   ]
  },
  {
   "cell_type": "markdown",
   "metadata": {},
   "source": [
    "*TODO: Use the tag_dummies table to calculate the inverse Document Frequency for each tag using the follwing function, with N being the number of games and n_t being the occurence of a the queried tag overall documents:*\n",
    "$$ \\log_{10}\\frac{N}{n_t}$$"
   ]
  },
  {
   "cell_type": "code",
   "execution_count": 770,
   "metadata": {},
   "outputs": [
    {
     "data": {
      "text/plain": [
       "1980s           2.181844\n",
       "1990's          1.642574\n",
       "2.5D            1.953364\n",
       "2D              0.649383\n",
       "2D Fighter      1.973568\n",
       "                  ...   \n",
       "World War I     2.295787\n",
       "World War II    1.662318\n",
       "Wrestling       3.295787\n",
       "Zombies         1.242708\n",
       "e-sports        2.254394\n",
       "Length: 356, dtype: float64"
      ]
     },
     "execution_count": 770,
     "metadata": {},
     "output_type": "execute_result"
    }
   ],
   "source": [
    "tag_idfs = np.log10(tag_dummies.shape[0] / tag_dummies.sum())\n",
    "tag_idfs"
   ]
  },
  {
   "cell_type": "markdown",
   "metadata": {},
   "source": [
    "*TODO: Replace all the 1 entries in the tag_dummies table with the corresponding idf value, resulting in a new vector space for our games*\n",
    "\n",
    "*Hint: Try multiplying each column with the corresponding value*"
   ]
  },
  {
   "cell_type": "code",
   "execution_count": 771,
   "metadata": {},
   "outputs": [],
   "source": [
    "tag_idf_embedding = pd.DataFrame()\n",
    "for column in tag_dummies.columns:\n",
    "    tag_idf_embedding[column] = tag_dummies[column] * tag_idfs[column]"
   ]
  },
  {
   "cell_type": "markdown",
   "metadata": {},
   "source": [
    "Then let's calculate the pairwise cosine distances and apply our topk function again."
   ]
  },
  {
   "cell_type": "code",
   "execution_count": 772,
   "metadata": {},
   "outputs": [],
   "source": [
    "idf_distances = pairwise_distances(tag_idf_embedding.values, metric = \"cosine\")"
   ]
  },
  {
   "cell_type": "code",
   "execution_count": 773,
   "metadata": {},
   "outputs": [
    {
     "data": {
      "text/plain": [
       "[('Diehard Dungeon', 0.32188027975279354),\n",
       " ('Deep Dungeons of Doom', 0.36448485968451605),\n",
       " (\"A Wizard's Lizard\", 0.38333384250021185),\n",
       " ('Rampage Knights', 0.45030010253811026),\n",
       " ('BIT.TRIP VOID', 0.45404226539552106),\n",
       " ('Legend of Dungeon', 0.4545797533373491),\n",
       " ('Pixel Boy and the Ever Expanding Dungeon', 0.4735571923201467),\n",
       " ('BeatBlasters III', 0.48205717807825044),\n",
       " ('bit Dungeon II', 0.4889300462429047),\n",
       " ('Desktop Dungeons', 0.4946704027114871)]"
      ]
     },
     "execution_count": 773,
     "metadata": {},
     "output_type": "execute_result"
    }
   ],
   "source": [
    "getTopKSimiliarGames(idf_distances, list(tag_data.index), 'Crypt of the NecroDancer', 10)"
   ]
  },
  {
   "cell_type": "markdown",
   "metadata": {},
   "source": [
    "Interestingly enough, now you should see that a few Rythm Style games have found their way into the top 10. NecroDancer is a rougelike dungeon crawler and a rythm game. So  there are less rythm games than dungeon crawlers on steam and therefore the tags that concern the rythm part of the game are weighted more than the dungeon tags. And that is excactly the idea behind idf! We want to lessen the importance of more frequently used words, e.g. in language this would mean that words like 'the' and 'and' are explicitly embedded as less important than very words that are specific to a document. "
   ]
  },
  {
   "cell_type": "markdown",
   "metadata": {},
   "source": [
    "## 3. Collaborative Filtering"
   ]
  },
  {
   "cell_type": "markdown",
   "metadata": {},
   "source": [
    "What we did up till now is often refered to as *Content-Based Recommendation*. This means we use the features of the items that a user likes or has interacted with (in this case video games) to find similiar items that this user might like. That means we do not use information about other user than the target. What we can also do is use the preferences of other users to recommend games to our target user.\n",
    "\n",
    "And that is what *Collaborative Filtering* Recommender Systems try to do. In our case the information about games based upon other users is encoded in the **action** feature. We can look at this feature as a sort of user rating of a game. We assume that if someone bought a game they found it interesting enough and if they then played it a lot they they even liked the game. From this we want to create a matrix. "
   ]
  },
  {
   "cell_type": "markdown",
   "metadata": {},
   "source": [
    "*TODO: First create a ratings matrix that has a 1 if a user bought a game and a 0 if they did not buy it.* \n",
    "\n",
    "*Hint: Use the pandas function pivot_table (https://pandas.pydata.org/pandas-docs/stable/reference/api/pandas.pivot_table.html)*"
   ]
  },
  {
   "cell_type": "code",
   "execution_count": 659,
   "metadata": {},
   "outputs": [
    {
     "data": {
      "text/html": [
       "<div>\n",
       "<style scoped>\n",
       "    .dataframe tbody tr th:only-of-type {\n",
       "        vertical-align: middle;\n",
       "    }\n",
       "\n",
       "    .dataframe tbody tr th {\n",
       "        vertical-align: top;\n",
       "    }\n",
       "\n",
       "    .dataframe thead th {\n",
       "        text-align: right;\n",
       "    }\n",
       "</style>\n",
       "<table border=\"1\" class=\"dataframe\">\n",
       "  <thead>\n",
       "    <tr style=\"text-align: right;\">\n",
       "      <th>game</th>\n",
       "      <th>1... 2... 3... KICK IT! (Drop That Beat Like an Ugly Baby)</th>\n",
       "      <th>10 Second Ninja</th>\n",
       "      <th>10,000,000</th>\n",
       "      <th>100% Orange Juice</th>\n",
       "      <th>140</th>\n",
       "      <th>16bit Trader</th>\n",
       "      <th>1954 Alcatraz</th>\n",
       "      <th>3 Stars of Destiny</th>\n",
       "      <th>3DMark</th>\n",
       "      <th>3DMark 11</th>\n",
       "      <th>...</th>\n",
       "      <th>iRacing</th>\n",
       "      <th>ibb &amp; obb</th>\n",
       "      <th>in Space</th>\n",
       "      <th>oO</th>\n",
       "      <th>planetarian ~the reverie of a little planet~</th>\n",
       "      <th>rFactor</th>\n",
       "      <th>rFactor 2</th>\n",
       "      <th>resident evil 4 / biohazard 4</th>\n",
       "      <th>rymdkapsel</th>\n",
       "      <th>samurai_jazz</th>\n",
       "    </tr>\n",
       "    <tr>\n",
       "      <th>userid</th>\n",
       "      <th></th>\n",
       "      <th></th>\n",
       "      <th></th>\n",
       "      <th></th>\n",
       "      <th></th>\n",
       "      <th></th>\n",
       "      <th></th>\n",
       "      <th></th>\n",
       "      <th></th>\n",
       "      <th></th>\n",
       "      <th></th>\n",
       "      <th></th>\n",
       "      <th></th>\n",
       "      <th></th>\n",
       "      <th></th>\n",
       "      <th></th>\n",
       "      <th></th>\n",
       "      <th></th>\n",
       "      <th></th>\n",
       "      <th></th>\n",
       "      <th></th>\n",
       "    </tr>\n",
       "  </thead>\n",
       "  <tbody>\n",
       "    <tr>\n",
       "      <th>5250</th>\n",
       "      <td>0</td>\n",
       "      <td>0</td>\n",
       "      <td>0</td>\n",
       "      <td>0</td>\n",
       "      <td>0</td>\n",
       "      <td>0</td>\n",
       "      <td>0</td>\n",
       "      <td>0</td>\n",
       "      <td>0</td>\n",
       "      <td>0</td>\n",
       "      <td>...</td>\n",
       "      <td>0</td>\n",
       "      <td>0</td>\n",
       "      <td>0</td>\n",
       "      <td>0</td>\n",
       "      <td>0</td>\n",
       "      <td>0</td>\n",
       "      <td>0</td>\n",
       "      <td>0</td>\n",
       "      <td>0</td>\n",
       "      <td>0</td>\n",
       "    </tr>\n",
       "    <tr>\n",
       "      <th>76767</th>\n",
       "      <td>0</td>\n",
       "      <td>0</td>\n",
       "      <td>0</td>\n",
       "      <td>0</td>\n",
       "      <td>0</td>\n",
       "      <td>0</td>\n",
       "      <td>0</td>\n",
       "      <td>0</td>\n",
       "      <td>0</td>\n",
       "      <td>0</td>\n",
       "      <td>...</td>\n",
       "      <td>0</td>\n",
       "      <td>0</td>\n",
       "      <td>0</td>\n",
       "      <td>0</td>\n",
       "      <td>0</td>\n",
       "      <td>0</td>\n",
       "      <td>0</td>\n",
       "      <td>0</td>\n",
       "      <td>0</td>\n",
       "      <td>0</td>\n",
       "    </tr>\n",
       "    <tr>\n",
       "      <th>86540</th>\n",
       "      <td>0</td>\n",
       "      <td>0</td>\n",
       "      <td>0</td>\n",
       "      <td>0</td>\n",
       "      <td>0</td>\n",
       "      <td>0</td>\n",
       "      <td>0</td>\n",
       "      <td>0</td>\n",
       "      <td>0</td>\n",
       "      <td>0</td>\n",
       "      <td>...</td>\n",
       "      <td>0</td>\n",
       "      <td>0</td>\n",
       "      <td>0</td>\n",
       "      <td>0</td>\n",
       "      <td>0</td>\n",
       "      <td>0</td>\n",
       "      <td>0</td>\n",
       "      <td>0</td>\n",
       "      <td>0</td>\n",
       "      <td>0</td>\n",
       "    </tr>\n",
       "    <tr>\n",
       "      <th>103360</th>\n",
       "      <td>0</td>\n",
       "      <td>0</td>\n",
       "      <td>0</td>\n",
       "      <td>0</td>\n",
       "      <td>0</td>\n",
       "      <td>0</td>\n",
       "      <td>0</td>\n",
       "      <td>0</td>\n",
       "      <td>0</td>\n",
       "      <td>0</td>\n",
       "      <td>...</td>\n",
       "      <td>0</td>\n",
       "      <td>0</td>\n",
       "      <td>0</td>\n",
       "      <td>0</td>\n",
       "      <td>0</td>\n",
       "      <td>0</td>\n",
       "      <td>0</td>\n",
       "      <td>0</td>\n",
       "      <td>0</td>\n",
       "      <td>0</td>\n",
       "    </tr>\n",
       "    <tr>\n",
       "      <th>144736</th>\n",
       "      <td>0</td>\n",
       "      <td>0</td>\n",
       "      <td>0</td>\n",
       "      <td>0</td>\n",
       "      <td>0</td>\n",
       "      <td>0</td>\n",
       "      <td>0</td>\n",
       "      <td>0</td>\n",
       "      <td>0</td>\n",
       "      <td>0</td>\n",
       "      <td>...</td>\n",
       "      <td>0</td>\n",
       "      <td>0</td>\n",
       "      <td>0</td>\n",
       "      <td>0</td>\n",
       "      <td>0</td>\n",
       "      <td>0</td>\n",
       "      <td>0</td>\n",
       "      <td>0</td>\n",
       "      <td>0</td>\n",
       "      <td>0</td>\n",
       "    </tr>\n",
       "    <tr>\n",
       "      <th>...</th>\n",
       "      <td>...</td>\n",
       "      <td>...</td>\n",
       "      <td>...</td>\n",
       "      <td>...</td>\n",
       "      <td>...</td>\n",
       "      <td>...</td>\n",
       "      <td>...</td>\n",
       "      <td>...</td>\n",
       "      <td>...</td>\n",
       "      <td>...</td>\n",
       "      <td>...</td>\n",
       "      <td>...</td>\n",
       "      <td>...</td>\n",
       "      <td>...</td>\n",
       "      <td>...</td>\n",
       "      <td>...</td>\n",
       "      <td>...</td>\n",
       "      <td>...</td>\n",
       "      <td>...</td>\n",
       "      <td>...</td>\n",
       "      <td>...</td>\n",
       "    </tr>\n",
       "    <tr>\n",
       "      <th>309404240</th>\n",
       "      <td>0</td>\n",
       "      <td>0</td>\n",
       "      <td>0</td>\n",
       "      <td>0</td>\n",
       "      <td>0</td>\n",
       "      <td>0</td>\n",
       "      <td>0</td>\n",
       "      <td>0</td>\n",
       "      <td>0</td>\n",
       "      <td>0</td>\n",
       "      <td>...</td>\n",
       "      <td>0</td>\n",
       "      <td>0</td>\n",
       "      <td>0</td>\n",
       "      <td>0</td>\n",
       "      <td>0</td>\n",
       "      <td>0</td>\n",
       "      <td>0</td>\n",
       "      <td>0</td>\n",
       "      <td>0</td>\n",
       "      <td>0</td>\n",
       "    </tr>\n",
       "    <tr>\n",
       "      <th>309434439</th>\n",
       "      <td>0</td>\n",
       "      <td>0</td>\n",
       "      <td>0</td>\n",
       "      <td>0</td>\n",
       "      <td>0</td>\n",
       "      <td>0</td>\n",
       "      <td>0</td>\n",
       "      <td>0</td>\n",
       "      <td>0</td>\n",
       "      <td>0</td>\n",
       "      <td>...</td>\n",
       "      <td>0</td>\n",
       "      <td>0</td>\n",
       "      <td>0</td>\n",
       "      <td>0</td>\n",
       "      <td>0</td>\n",
       "      <td>0</td>\n",
       "      <td>0</td>\n",
       "      <td>0</td>\n",
       "      <td>0</td>\n",
       "      <td>0</td>\n",
       "    </tr>\n",
       "    <tr>\n",
       "      <th>309812026</th>\n",
       "      <td>0</td>\n",
       "      <td>0</td>\n",
       "      <td>0</td>\n",
       "      <td>0</td>\n",
       "      <td>0</td>\n",
       "      <td>0</td>\n",
       "      <td>0</td>\n",
       "      <td>0</td>\n",
       "      <td>0</td>\n",
       "      <td>0</td>\n",
       "      <td>...</td>\n",
       "      <td>0</td>\n",
       "      <td>0</td>\n",
       "      <td>0</td>\n",
       "      <td>0</td>\n",
       "      <td>0</td>\n",
       "      <td>0</td>\n",
       "      <td>0</td>\n",
       "      <td>0</td>\n",
       "      <td>0</td>\n",
       "      <td>0</td>\n",
       "    </tr>\n",
       "    <tr>\n",
       "      <th>309824202</th>\n",
       "      <td>0</td>\n",
       "      <td>0</td>\n",
       "      <td>0</td>\n",
       "      <td>0</td>\n",
       "      <td>0</td>\n",
       "      <td>0</td>\n",
       "      <td>0</td>\n",
       "      <td>0</td>\n",
       "      <td>0</td>\n",
       "      <td>0</td>\n",
       "      <td>...</td>\n",
       "      <td>0</td>\n",
       "      <td>0</td>\n",
       "      <td>0</td>\n",
       "      <td>0</td>\n",
       "      <td>0</td>\n",
       "      <td>0</td>\n",
       "      <td>0</td>\n",
       "      <td>0</td>\n",
       "      <td>0</td>\n",
       "      <td>0</td>\n",
       "    </tr>\n",
       "    <tr>\n",
       "      <th>309903146</th>\n",
       "      <td>0</td>\n",
       "      <td>0</td>\n",
       "      <td>0</td>\n",
       "      <td>0</td>\n",
       "      <td>0</td>\n",
       "      <td>0</td>\n",
       "      <td>0</td>\n",
       "      <td>0</td>\n",
       "      <td>0</td>\n",
       "      <td>0</td>\n",
       "      <td>...</td>\n",
       "      <td>0</td>\n",
       "      <td>0</td>\n",
       "      <td>0</td>\n",
       "      <td>0</td>\n",
       "      <td>0</td>\n",
       "      <td>0</td>\n",
       "      <td>0</td>\n",
       "      <td>0</td>\n",
       "      <td>0</td>\n",
       "      <td>0</td>\n",
       "    </tr>\n",
       "  </tbody>\n",
       "</table>\n",
       "<p>10140 rows × 1976 columns</p>\n",
       "</div>"
      ],
      "text/plain": [
       "game       1... 2... 3... KICK IT! (Drop That Beat Like an Ugly Baby)  \\\n",
       "userid                                                                  \n",
       "5250                                                       0            \n",
       "76767                                                      0            \n",
       "86540                                                      0            \n",
       "103360                                                     0            \n",
       "144736                                                     0            \n",
       "...                                                      ...            \n",
       "309404240                                                  0            \n",
       "309434439                                                  0            \n",
       "309812026                                                  0            \n",
       "309824202                                                  0            \n",
       "309903146                                                  0            \n",
       "\n",
       "game       10 Second Ninja  10,000,000  100% Orange Juice  140  16bit Trader  \\\n",
       "userid                                                                         \n",
       "5250                     0           0                  0    0             0   \n",
       "76767                    0           0                  0    0             0   \n",
       "86540                    0           0                  0    0             0   \n",
       "103360                   0           0                  0    0             0   \n",
       "144736                   0           0                  0    0             0   \n",
       "...                    ...         ...                ...  ...           ...   \n",
       "309404240                0           0                  0    0             0   \n",
       "309434439                0           0                  0    0             0   \n",
       "309812026                0           0                  0    0             0   \n",
       "309824202                0           0                  0    0             0   \n",
       "309903146                0           0                  0    0             0   \n",
       "\n",
       "game       1954 Alcatraz  3 Stars of Destiny  3DMark  3DMark 11  ...  iRacing  \\\n",
       "userid                                                           ...            \n",
       "5250                   0                   0       0          0  ...        0   \n",
       "76767                  0                   0       0          0  ...        0   \n",
       "86540                  0                   0       0          0  ...        0   \n",
       "103360                 0                   0       0          0  ...        0   \n",
       "144736                 0                   0       0          0  ...        0   \n",
       "...                  ...                 ...     ...        ...  ...      ...   \n",
       "309404240              0                   0       0          0  ...        0   \n",
       "309434439              0                   0       0          0  ...        0   \n",
       "309812026              0                   0       0          0  ...        0   \n",
       "309824202              0                   0       0          0  ...        0   \n",
       "309903146              0                   0       0          0  ...        0   \n",
       "\n",
       "game       ibb & obb  in Space  oO  \\\n",
       "userid                               \n",
       "5250               0         0   0   \n",
       "76767              0         0   0   \n",
       "86540              0         0   0   \n",
       "103360             0         0   0   \n",
       "144736             0         0   0   \n",
       "...              ...       ...  ..   \n",
       "309404240          0         0   0   \n",
       "309434439          0         0   0   \n",
       "309812026          0         0   0   \n",
       "309824202          0         0   0   \n",
       "309903146          0         0   0   \n",
       "\n",
       "game       planetarian ~the reverie of a little planet~  rFactor  rFactor 2  \\\n",
       "userid                                                                        \n",
       "5250                                                  0        0          0   \n",
       "76767                                                 0        0          0   \n",
       "86540                                                 0        0          0   \n",
       "103360                                                0        0          0   \n",
       "144736                                                0        0          0   \n",
       "...                                                 ...      ...        ...   \n",
       "309404240                                             0        0          0   \n",
       "309434439                                             0        0          0   \n",
       "309812026                                             0        0          0   \n",
       "309824202                                             0        0          0   \n",
       "309903146                                             0        0          0   \n",
       "\n",
       "game       resident evil 4 / biohazard 4  rymdkapsel  samurai_jazz  \n",
       "userid                                                              \n",
       "5250                                   0           0             0  \n",
       "76767                                  0           0             0  \n",
       "86540                                  0           0             0  \n",
       "103360                                 0           0             0  \n",
       "144736                                 0           0             0  \n",
       "...                                  ...         ...           ...  \n",
       "309404240                              0           0             0  \n",
       "309434439                              0           0             0  \n",
       "309812026                              0           0             0  \n",
       "309824202                              0           0             0  \n",
       "309903146                              0           0             0  \n",
       "\n",
       "[10140 rows x 1976 columns]"
      ]
     },
     "execution_count": 659,
     "metadata": {},
     "output_type": "execute_result"
    }
   ],
   "source": [
    "purchased = steam_data[steam_data['action'] == 'purchase']\n",
    "ratings_table = purchased.pivot_table(index='userid', columns='game', values='hours', fill_value=0)\n",
    "ratings_table"
   ]
  },
  {
   "cell_type": "markdown",
   "metadata": {},
   "source": [
    "Another possibility would be to user the played hours as a rating, for example by fitting a histogram with 5 buckets (or even a mixture of gaussians with 5 functions) to the **hours** feature and using this as a rating vom 1 - 5 'stars'. This is also completely reasonable and if you want you can try it out, but we will continue with the purchase information + confidence model.\n",
    "\n",
    "Let us take a closer look at our ratings matrix. What attributes can we gather from it?\n",
    "\n",
    "*TODO: Calculate the percentage of 1 entries in the matrix*"
   ]
  },
  {
   "cell_type": "code",
   "execution_count": 662,
   "metadata": {},
   "outputs": [
    {
     "name": "stdout",
     "output_type": "stream",
     "text": [
      "28.02% of the user-item matrix is filled\n"
     ]
    }
   ],
   "source": [
    "sparsity = ratings_table.sum().sum() / ratings_table.count().sum() * 100\n",
    "print('{:.2%} of the user-item matrix is filled'.format(sparsity))"
   ]
  },
  {
   "cell_type": "markdown",
   "metadata": {},
   "source": [
    "As you can see most of our table is empty. This means our matrix is very sparse! Which makes sense since this is in the title of your Assigment ;)."
   ]
  },
  {
   "cell_type": "code",
   "execution_count": 660,
   "metadata": {
    "scrolled": true
   },
   "outputs": [
    {
     "data": {
      "text/plain": [
       "array([[0, 0, 0, ..., 0, 0, 0],\n",
       "       [0, 0, 0, ..., 0, 0, 0],\n",
       "       [0, 0, 0, ..., 0, 0, 0],\n",
       "       ...,\n",
       "       [0, 0, 0, ..., 0, 0, 0],\n",
       "       [0, 0, 0, ..., 0, 0, 0],\n",
       "       [0, 0, 0, ..., 0, 0, 0]], dtype=int64)"
      ]
     },
     "execution_count": 660,
     "metadata": {},
     "output_type": "execute_result"
    }
   ],
   "source": [
    "# From now on we will use numpy instead of pandas, because some calculations \n",
    "# are easier done with numpy arrays instead of DataFrames\n",
    "# Here is how to convert a pandas df to a numpy array\n",
    "ratings_matrix = ratings_table.values\n",
    "# Well that was easy:\n",
    "ratings_matrix"
   ]
  },
  {
   "cell_type": "markdown",
   "metadata": {},
   "source": [
    "### 3.1 Trivial Calculations"
   ]
  },
  {
   "cell_type": "markdown",
   "metadata": {},
   "source": [
    "Right now our matrix has a row for each users showing us, but if we transpose our matrix, we now have new features for each of our games. And we can use the resulting feature space to find simliar games again."
   ]
  },
  {
   "cell_type": "code",
   "execution_count": 666,
   "metadata": {},
   "outputs": [],
   "source": [
    "# use sklear pairwise distance to calculte the cosine distances \n",
    "trivial_cos_distances = pairwise_distances(ratings_matrix.T, metric='hamming')"
   ]
  },
  {
   "cell_type": "code",
   "execution_count": 667,
   "metadata": {},
   "outputs": [
    {
     "data": {
      "text/plain": [
       "array([[0.        , 0.00128205, 0.00078895, ..., 0.00285996, 0.00078895,\n",
       "        0.00078895],\n",
       "       [0.00128205, 0.        , 0.00069034, ..., 0.00276134, 0.00069034,\n",
       "        0.00069034],\n",
       "       [0.00078895, 0.00069034, 0.        , ..., 0.00246548, 0.00019724,\n",
       "        0.00019724],\n",
       "       ...,\n",
       "       [0.00285996, 0.00276134, 0.00246548, ..., 0.        , 0.00246548,\n",
       "        0.00246548],\n",
       "       [0.00078895, 0.00069034, 0.00019724, ..., 0.00246548, 0.        ,\n",
       "        0.00019724],\n",
       "       [0.00078895, 0.00069034, 0.00019724, ..., 0.00246548, 0.00019724,\n",
       "        0.        ]])"
      ]
     },
     "execution_count": 667,
     "metadata": {},
     "output_type": "execute_result"
    }
   ],
   "source": [
    "trivial_cos_distances"
   ]
  },
  {
   "cell_type": "markdown",
   "metadata": {},
   "source": [
    "Now again let's Use your getTopKSimiliarGames function to find the 10 most similiar games to Crypt."
   ]
  },
  {
   "cell_type": "code",
   "execution_count": null,
   "metadata": {},
   "outputs": [],
   "source": [
    "getTopKSimiliarGames(trivial_cos_distances, list(ratings_table.columns), 'Crypt of the NecroDancer', 10)"
   ]
  },
  {
   "cell_type": "code",
   "execution_count": 664,
   "metadata": {},
   "outputs": [
    {
     "data": {
      "text/plain": [
       "array([[<AxesSubplot:title={'center':'0'}>]], dtype=object)"
      ]
     },
     "execution_count": 664,
     "metadata": {},
     "output_type": "execute_result"
    },
    {
     "data": {
      "image/png": "[encoded data removed]",
      "text/plain": [
       "<Figure size 432x288 with 1 Axes>"
      ]
     },
     "metadata": {
      "needs_background": "light"
     },
     "output_type": "display_data"
    }
   ],
   "source": [
    "# Well that's actually not the worst result. Let's look at the distribution  \n",
    "# our distances\n",
    "\n",
    "game_index = list(ratings_table.columns).index('Crypt of the NecroDancer')\n",
    "distances_to_game = trivial_cos_distances[game_index]\n",
    "\n",
    "pd.DataFrame(distances_to_game).hist()"
   ]
  },
  {
   "cell_type": "markdown",
   "metadata": {},
   "source": [
    "As you can see these distances are not distributed well. Which is excactly the problem with such sparse vector spaces. And if you listened to the lecture you might know what this calls for. Dimensionality Reduction with ..."
   ]
  },
  {
   "cell_type": "markdown",
   "metadata": {},
   "source": [
    "### 3.2 SVD"
   ]
  },
  {
   "cell_type": "markdown",
   "metadata": {},
   "source": [
    "So we can assume that there is some underlying factors that lead to users buying certain games. We do not know these attributes and therefore they are often refered to as *hidden features*, *latent features* or *embeddings*. We can assume that this latent space has a significantly lower dimensionality than our ratings_matrix. One way to find these features is to use the Matrix Factorization to create two low dimensional matrices that multiply to our ratings matrix. This can be seen as a kind of compression. One classic MF is SVD. In this case we want to reduce the dimensionality so we use truncated svd.\n",
    "\n",
    "*TODO: Use sklearn.decomposition.TruncatedSVD (https://scikit-learn.org/stable/modules/generated/sklearn.decomposition.TruncatedSVD.html) to create a new lower rank matrix. Start by using a high number of components (ca. 100) and look at the explained variance ratio. Use this information to find a reasonable number of dimensions after which the variance ratio drops below 0.01. The TruncatedSVD Functions is sometimes a bit unstable. If you get a weird error, just run the cell again until it runs through*"
   ]
  },
  {
   "cell_type": "code",
   "execution_count": 673,
   "metadata": {},
   "outputs": [
    {
     "name": "stdout",
     "output_type": "stream",
     "text": [
      "[0.12426155 0.07207986 0.04747838 0.04038503 0.02679706 0.01660196\n",
      " 0.01614743 0.01312306 0.0109225  0.01053031 0.01053991]\n"
     ]
    }
   ],
   "source": [
    "from sklearn.decomposition import TruncatedSVD\n",
    "\n",
    "svd = TruncatedSVD(n_components=11)\n",
    "usv = svd.fit_transform(ratings_matrix.T)\n",
    "print(svd.explained_variance_ratio_)"
   ]
  },
  {
   "cell_type": "code",
   "execution_count": 678,
   "metadata": {},
   "outputs": [
    {
     "data": {
      "text/plain": [
       "array([[ 3.16284377e-01, -1.92607138e-01, -9.05829057e-02, ...,\n",
       "        -7.14908998e-02,  1.35323515e-01, -2.76706741e-01],\n",
       "       [ 2.62529085e-01, -1.95470486e-01, -1.10153166e-01, ...,\n",
       "        -2.24229288e-02, -7.72515663e-02, -2.03842869e-02],\n",
       "       [ 7.50783955e-02, -6.68062379e-02, -7.67320770e-02, ...,\n",
       "         4.65566131e-02, -3.13007565e-02, -7.02849581e-03],\n",
       "       ...,\n",
       "       [ 9.38416579e-01, -7.54330874e-01, -4.57621690e-01, ...,\n",
       "         2.47663902e-01, -2.31961327e-01,  4.18070146e-01],\n",
       "       [ 1.46920462e-03, -1.99504034e-03, -1.92755001e-03, ...,\n",
       "        -6.07213630e-03, -7.43538553e-04,  4.71129459e-03],\n",
       "       [ 8.39701086e-03,  1.33156532e-02,  2.67708351e-03, ...,\n",
       "        -1.33714421e-02, -1.93585892e-02, -8.75043394e-03]])"
      ]
     },
     "execution_count": 678,
     "metadata": {},
     "output_type": "execute_result"
    }
   ],
   "source": [
    "usv"
   ]
  },
  {
   "cell_type": "markdown",
   "metadata": {},
   "source": [
    "*TODO: Use pairwise cosine distance on the reduced game vectors*"
   ]
  },
  {
   "cell_type": "code",
   "execution_count": 282,
   "metadata": {},
   "outputs": [],
   "source": [
    "svd_cos_distances = pairwise_distances(usv, metric='cosine')"
   ]
  },
  {
   "cell_type": "markdown",
   "metadata": {},
   "source": [
    "And we run our function to search similiar games to 'Crypt of the Necrodancer' again"
   ]
  },
  {
   "cell_type": "code",
   "execution_count": 675,
   "metadata": {},
   "outputs": [
    {
     "data": {
      "text/plain": [
       "[('Rogue Legacy', 0.034317738660559205),\n",
       " ('Epic Battle Fantasy 4', 0.03907860894752979),\n",
       " ('Keep Talking and Nobody Explodes', 0.050460652459689115),\n",
       " ('SOMA', 0.051270176741117),\n",
       " ('Grow Home', 0.051315085592052334),\n",
       " ('Damned', 0.0518769307268927),\n",
       " ('Broforce', 0.05785105786061573),\n",
       " ('Super Time Force Ultra', 0.06265348234538015),\n",
       " ('Axiom Verge', 0.06423582490488633),\n",
       " ('Cannon Brawl', 0.06515340982124918)]"
      ]
     },
     "execution_count": 675,
     "metadata": {},
     "output_type": "execute_result"
    }
   ],
   "source": [
    "getTopKSimiliarGames(svd_cos_distances, list(ratings_table.columns), 'Crypt of the NecroDancer', 10)"
   ]
  },
  {
   "cell_type": "markdown",
   "metadata": {},
   "source": [
    "And now you might see that this not as easily comprehensible than using the explicit tag feature. As already stated we do not know what leads to the buying habits of the users, so we have to trust that there is some hidden relation between these games. But we can look at the distance distribution again to see whether our latent space is useful and it looks much better this time. There are some games very close to our target, some that are very far away, but most "
   ]
  },
  {
   "cell_type": "code",
   "execution_count": 676,
   "metadata": {},
   "outputs": [
    {
     "data": {
      "text/plain": [
       "array([[<AxesSubplot:title={'center':'0'}>]], dtype=object)"
      ]
     },
     "execution_count": 676,
     "metadata": {},
     "output_type": "execute_result"
    },
    {
     "data": {
      "image/png": "[encoded data removed]",
      "text/plain": [
       "<Figure size 432x288 with 1 Axes>"
      ]
     },
     "metadata": {
      "needs_background": "light"
     },
     "output_type": "display_data"
    }
   ],
   "source": [
    "game_index = list(ratings_table.columns).index('Crypt of the NecroDancer')\n",
    "distances_to_game = svd_cos_distances[game_index]\n",
    "\n",
    "pd.DataFrame(distances_to_game).hist()"
   ]
  },
  {
   "cell_type": "markdown",
   "metadata": {},
   "source": [
    "Now let's combine both the text features and the user features to find the best games for our test users again!\n",
    "\n",
    "*TODO: First we need to make sure that both our distances are in the same value range. So use sklearn.preprocessing.normalize to norm both svd_cos_distances and idf_distances to [0, 1] and then take the mean of each value in both lists*"
   ]
  },
  {
   "cell_type": "code",
   "execution_count": 685,
   "metadata": {},
   "outputs": [],
   "source": [
    "from sklearn.preprocessing import normalize\n",
    "\n",
    "combined_distances = normalize(svd_cos_distances) + normalize(idf_distances)/ 2"
   ]
  },
  {
   "cell_type": "markdown",
   "metadata": {},
   "source": [
    "And another call to our function:"
   ]
  },
  {
   "cell_type": "code",
   "execution_count": 686,
   "metadata": {},
   "outputs": [
    {
     "data": {
      "text/plain": [
       "[('BIT.TRIP VOID', 0.006370129494176643),\n",
       " ('Diehard Dungeon', 0.008968084112471183),\n",
       " (\"A Wizard's Lizard\", 0.009302838126073291),\n",
       " ('Sentris', 0.00930948003965029),\n",
       " ('Rogue Legacy', 0.009567555301166904),\n",
       " ('Spelunky', 0.010663771576159196),\n",
       " ('The Binding of Isaac', 0.010853068903671466),\n",
       " ('Chime', 0.0112714881584805),\n",
       " ('Legend of Dungeon', 0.011303505601184954),\n",
       " ('Invisible, Inc.', 0.011344441482770942)]"
      ]
     },
     "execution_count": 686,
     "metadata": {},
     "output_type": "execute_result"
    }
   ],
   "source": [
    "getTopKSimiliarGames(combined_distances, list(ratings_table.columns), 'Crypt of the NecroDancer', 10)"
   ]
  },
  {
   "cell_type": "code",
   "execution_count": 689,
   "metadata": {},
   "outputs": [
    {
     "data": {
      "text/plain": [
       "array([[<AxesSubplot:title={'center':'0'}>]], dtype=object)"
      ]
     },
     "execution_count": 689,
     "metadata": {},
     "output_type": "execute_result"
    },
    {
     "data": {
      "image/png": "[encoded data removed]",
      "text/plain": [
       "<Figure size 432x288 with 1 Axes>"
      ]
     },
     "metadata": {
      "needs_background": "light"
     },
     "output_type": "display_data"
    }
   ],
   "source": [
    "game_index = list(ratings_table.columns).index('Crypt of the NecroDancer')\n",
    "distances_to_game = combined_distances[game_index]\n",
    "\n",
    "pd.DataFrame(distances_to_game).hist()"
   ]
  },
  {
   "cell_type": "markdown",
   "metadata": {},
   "source": [
    "Now this actually looks like a very good collection of games for some one who likes Crypt of the NecroDancer. \n",
    "We did our job and we could stop here, but it is always good to try a lot of different approaches and models. Also we still have not actually recommened games tailored to a sngle user. We could now use the svd matrix to reconstruct our original matrix and check whether we get some new entries for users, but since the results from svd actually allow for negative matrix entrices in the Factor Matrices we did not really learn anything. There are way more Facorizations with negative values, than if we restrict our factor matrices to be Non Negative. And that is our last step:  "
   ]
  },
  {
   "cell_type": "markdown",
   "metadata": {},
   "source": [
    "### 3.3 Non Negative Matrix Factorization"
   ]
  },
  {
   "cell_type": "markdown",
   "metadata": {},
   "source": [
    "So SVD is nice enough, but there is other ways to find good latent features for our games, and thereby hopefully make even better recommendations. If you want you can also try out CUR, but we will end this assignment by doing Non Negative Matrix Factorization using numpy. Finally some actual Machine Learning!\n",
    "\n",
    "*TODO: Using only numpy and Two Block Coordinate Descent: Given the ratings matrix $X \\in \\mathbb{R}_+^{n \\times d}$ and a latent dimensionality $k$, find two non-negative matrices $W \\in \\mathbb{R}_+^{n \\times k}$ and $H \\in \\mathbb{R}_+^{k \\times d}$ such that $X - WH$ minimizes the Frobenius Norm (Basically another term for the euclidean distance, just as a matrix norm, https://mathworld.wolfram.com/FrobeniusNorm.html). You are given the algorithm and the update formulars for both matrices. Hint: @ is the short hand for matrix multiplication with numpy. For example W @ H*"
   ]
  },
  {
   "cell_type": "markdown",
   "metadata": {},
   "source": [
    "#### Two Block Coordinate Descent\n",
    "\n",
    "1. Init $W^{(0)} \\geq 0$ and $H^{(0)} \\geq 0$\n",
    "2. For t in 1...epochs:\n",
    "3. &nbsp;&nbsp;&nbsp;&nbsp;&nbsp;&nbsp;$W^{(t)} = \\text{update}(X, H^{(t-1)}, W^{(t-1)})$\n",
    "4. &nbsp;&nbsp;&nbsp;&nbsp;&nbsp;&nbsp;$H^{(t)} = \\text{update}(X, W^{(t)}, H^{(t-1)})$\n",
    "5. End For\n"
   ]
  },
  {
   "cell_type": "markdown",
   "metadata": {},
   "source": [
    " * **Loss Function** $$ L(W, H) = \\frac{1}{2} || X - WH ||_F^2 $$\n",
    " ---\n",
    " * **Update Rule for W**: $$ W \\leftarrow W \\times \\frac{XH^T}{WHH^T} $$\n",
    " ---\n",
    " * **Update Rule for H**: $$ H \\leftarrow H \\times \\frac{W^TX}{W^TWH} $$"
   ]
  },
  {
   "cell_type": "markdown",
   "metadata": {},
   "source": [
    "*TODO Step 1: Initialize $W$ and $H$*"
   ]
  },
  {
   "cell_type": "code",
   "execution_count": 739,
   "metadata": {},
   "outputs": [],
   "source": [
    "embedding_dim = 11\n",
    "X = ratings_matrix\n",
    "W = np.random.rand(X.shape[0], embedding_dim)\n",
    "H = np.random.rand(embedding_dim, X.shape[1])"
   ]
  },
  {
   "cell_type": "markdown",
   "metadata": {},
   "source": [
    "*TODO Step 2: Define the Loss function (Frobenius norm)*"
   ]
  },
  {
   "cell_type": "code",
   "execution_count": 775,
   "metadata": {},
   "outputs": [],
   "source": [
    "loss = lambda X, WH: 0.5 * np.sqrt(((X - (WH))**2)).mean()"
   ]
  },
  {
   "cell_type": "code",
   "execution_count": 741,
   "metadata": {},
   "outputs": [],
   "source": [
    "# Just a list to collect the losses for each epoch\n",
    "losses = []"
   ]
  },
  {
   "cell_type": "markdown",
   "metadata": {},
   "source": [
    "*TODO: Step 3: Here you have an emtpy loop for your 2-Block Coord Descent.*\n",
    "\n",
    "*Hint: Make sure that $W$ and $H$ do not contain actual zero values or values that are so low that they create an integer underflow, for example by using numpy's where function!*"
   ]
  },
  {
   "cell_type": "code",
   "execution_count": 742,
   "metadata": {},
   "outputs": [
    {
     "data": {
      "application/vnd.jupyter.widget-view+json": {
       "model_id": "b9d025d840f0417c9a2389eb711a2921",
       "version_major": 2,
       "version_minor": 0
      },
      "text/plain": [
       "  0%|          | 0/50 [00:00<?, ?it/s]"
      ]
     },
     "metadata": {},
     "output_type": "display_data"
    },
    {
     "name": "stdout",
     "output_type": "stream",
     "text": [
      "Epoch: 0, Loss: 50351.2385657312\n",
      "Epoch: 10, Loss: 46593.7660969123\n",
      "Epoch: 20, Loss: 42992.734692195365\n",
      "Epoch: 30, Loss: 41702.52335942986\n",
      "Epoch: 40, Loss: 41312.70582327237\n"
     ]
    }
   ],
   "source": [
    "from tqdm.notebook import tqdm\n",
    "\n",
    "epochs = 50\n",
    "lr = 10e-4\n",
    "for e in tqdm(range(epochs)):\n",
    "    W = np.where(W < 10e-10, 10e-10, W)\n",
    "    H = np.where(H < 10e-10, 10e-10, H)\n",
    "    \n",
    "    W = W * ((X @ H.T)/(W @ H @ H.T))\n",
    "    H = H * ((W.T @ X)/(W.T @ W @ H))\n",
    "    \n",
    "    WH = W @ H\n",
    "    single_loss = loss(X, WH)\n",
    "    \n",
    "    if e % 10 == 0:\n",
    "        print(f'Epoch: {e}, Loss: {single_loss}')\n",
    "    \n",
    "    losses.append(single_loss)"
   ]
  },
  {
   "cell_type": "markdown",
   "metadata": {},
   "source": [
    "Ok, let's take a look at our losses. It should start high, shortly go higher and then go straight done until it does not really change anymore:"
   ]
  },
  {
   "cell_type": "code",
   "execution_count": 776,
   "metadata": {},
   "outputs": [
    {
     "data": {
      "text/plain": [
       "<AxesSubplot:>"
      ]
     },
     "execution_count": 776,
     "metadata": {},
     "output_type": "execute_result"
    },
    {
     "data": {
      "image/png": "[encoded data removed]",
      "text/plain": [
       "<Figure size 432x288 with 1 Axes>"
      ]
     },
     "metadata": {
      "needs_background": "light"
     },
     "output_type": "display_data"
    }
   ],
   "source": [
    "pd.DataFrame(losses).plot()"
   ]
  },
  {
   "cell_type": "markdown",
   "metadata": {},
   "source": [
    "Your final loss after 100 epochs should be about ..."
   ]
  },
  {
   "cell_type": "code",
   "execution_count": null,
   "metadata": {},
   "outputs": [],
   "source": [
    "loss(X, W @ H)"
   ]
  },
  {
   "cell_type": "markdown",
   "metadata": {},
   "source": [
    "Now we reconstruct X"
   ]
  },
  {
   "cell_type": "code",
   "execution_count": 706,
   "metadata": {},
   "outputs": [],
   "source": [
    "X_pred = W @ H"
   ]
  },
  {
   "cell_type": "markdown",
   "metadata": {},
   "source": [
    "*TODO: Create a new ratings matrix by replacing each value lower than 0.1 by a 0 and each other value with a 1. Hint: Use numpy's where function*"
   ]
  },
  {
   "cell_type": "code",
   "execution_count": 614,
   "metadata": {},
   "outputs": [],
   "source": [
    "new_ratings = np.where(X_pred < 0.1, 0, 1)"
   ]
  },
  {
   "cell_type": "code",
   "execution_count": 615,
   "metadata": {},
   "outputs": [
    {
     "data": {
      "text/plain": [
       "array([[0, 0, 0, ..., 0, 0, 0],\n",
       "       [0, 0, 0, ..., 0, 0, 0],\n",
       "       [0, 0, 0, ..., 0, 0, 0],\n",
       "       ...,\n",
       "       [0, 0, 0, ..., 0, 0, 0],\n",
       "       [0, 0, 0, ..., 0, 0, 0],\n",
       "       [0, 0, 0, ..., 0, 0, 0]])"
      ]
     },
     "execution_count": 615,
     "metadata": {},
     "output_type": "execute_result"
    }
   ],
   "source": [
    "new_ratings"
   ]
  },
  {
   "cell_type": "markdown",
   "metadata": {},
   "source": [
    "Now we can make a new ratings table"
   ]
  },
  {
   "cell_type": "code",
   "execution_count": 618,
   "metadata": {},
   "outputs": [],
   "source": [
    "new_ratings_table = pd.DataFrame(new_ratings, index=ratings_table.index, columns=ratings_table.columns)"
   ]
  },
  {
   "cell_type": "markdown",
   "metadata": {},
   "source": [
    "Let us pick a user and check out what we would recommend to them:"
   ]
  },
  {
   "cell_type": "code",
   "execution_count": 725,
   "metadata": {},
   "outputs": [],
   "source": [
    "old_games = steam_data[steam_data['userid'] == 5250]['game']\n",
    "new_recommendations = new_ratings_table.iloc[0][new_ratings_table.iloc[0] == 1].index"
   ]
  },
  {
   "cell_type": "markdown",
   "metadata": {},
   "source": [
    "This is what this user purchased before:"
   ]
  },
  {
   "cell_type": "code",
   "execution_count": 726,
   "metadata": {},
   "outputs": [
    {
     "data": {
      "text/plain": [
       "{'Alien Swarm',\n",
       " 'Counter-Strike',\n",
       " 'Day of Defeat',\n",
       " 'Deathmatch Classic',\n",
       " 'Dota 2',\n",
       " 'Half-Life',\n",
       " 'Half-Life 2',\n",
       " 'Portal',\n",
       " 'Portal 2',\n",
       " 'Ricochet',\n",
       " 'Team Fortress 2',\n",
       " 'Team Fortress Classic'}"
      ]
     },
     "execution_count": 726,
     "metadata": {},
     "output_type": "execute_result"
    }
   ],
   "source": [
    "set(old_games)"
   ]
  },
  {
   "cell_type": "markdown",
   "metadata": {},
   "source": [
    "And here are the games that are new, i.e. the ones that we recommend to this user:"
   ]
  },
  {
   "cell_type": "code",
   "execution_count": 723,
   "metadata": {},
   "outputs": [
    {
     "data": {
      "text/plain": [
       "{'BioShock Infinite', 'Borderlands 2', 'Left 4 Dead', 'Left 4 Dead 2'}"
      ]
     },
     "execution_count": 723,
     "metadata": {},
     "output_type": "execute_result"
    }
   ],
   "source": [
    "set(new_recommendations) - set(old_games)"
   ]
  },
  {
   "cell_type": "markdown",
   "metadata": {},
   "source": [
    "Ok now you yourself can decide whether those are some good recommendations or not :P And that's it for this Assignment. I hope it was interesting and fun :)"
   ]
  }
 ],
 "metadata": {
  "kernelspec": {
   "display_name": "Python 3",
   "language": "python",
   "name": "python3"
  },
  "language_info": {
   "codemirror_mode": {
    "name": "ipython",
    "version": 3
   },
   "file_extension": ".py",
   "mimetype": "text/x-python",
   "name": "python",
   "nbconvert_exporter": "python",
   "pygments_lexer": "ipython3",
   "version": "3.9.1"
  }
 },
 "nbformat": 4,
 "nbformat_minor": 4
}
